{
 "cells": [
  {
   "cell_type": "markdown",
   "id": "28ab6204-1641-44df-b8f2-ef200e2b4bdc",
   "metadata": {},
   "source": [
    "# Data Preprocessing"
   ]
  },
  {
   "cell_type": "markdown",
   "id": "9ab8a6e5-b84a-47fb-95aa-f36c831b87b3",
   "metadata": {},
   "source": [
    "Modis data were downloaded using the [APPEARS](https://appeears.earthdatacloud.nasa.gov/) which allows for spatiotemporal subsetting of NASA remote sensing products. \n",
    "Data were selected to apply to CONUS and processed from native format to netcdf. \n",
    "The originial [Vegetation Indices Monthly-MOD13A3.061](https://lpdaac.usgs.gov/products/mod13c2v061/) Product is at 1km x 1km resolution and the file size is ~2GB. \n",
    "To allow for upload to GitHub and processing in class, I am downsampling data to 10x10 km$^2$. \n",
    "\n",
    "The data download requests are reproducible using the corresponding `JSON` files in the data folder. "
   ]
  },
  {
   "cell_type": "code",
   "execution_count": 11,
   "id": "c50dc139-b174-4500-aaf5-7e0de58ef54a",
   "metadata": {},
   "outputs": [],
   "source": [
    "# Import the tools we are going to need today:\n",
    "import matplotlib.pyplot as plt  # plotting library\n",
    "import numpy as np  # numerical library\n",
    "import xarray as xr  # netCDF library\n",
    "import cartopy  # Map projections libary\n",
    "import cartopy.crs as ccrs  # Projections list\n",
    "#import rioxarray as rxr\n",
    "import glob"
   ]
  },
  {
   "cell_type": "code",
   "execution_count": 12,
   "id": "6b8b17d7-8703-42ea-9843-ba7f4bae1c38",
   "metadata": {},
   "outputs": [
    {
     "data": {
      "text/plain": [
       "['../data\\\\MOD13A3.061_1km_aid0001_latlon_2020.nc',\n",
       " '../data\\\\MOD13A3.061_1km_aid0001_latlon_2020_10km.nc',\n",
       " '../data\\\\MOD13A3.061_1km_aid0001_latlon_2021.nc',\n",
       " '../data\\\\MOD13A3.061_1km_aid0001_latlon_2021_10km.nc',\n",
       " '../data\\\\MOD13A3.061_1km_aid0001_latlon_2022.nc',\n",
       " '../data\\\\MOD13A3.061_1km_aid0001_latlon_2022_10km.nc',\n",
       " '../data\\\\MOD13A3.061_1km_aid0001_latlon_2023.nc',\n",
       " '../data\\\\MOD13A3.061_1km_aid0001_latlon_2023_10km.nc']"
      ]
     },
     "execution_count": 12,
     "metadata": {},
     "output_type": "execute_result"
    }
   ],
   "source": [
    "files = glob.glob(r'../data/*latlon_*.nc')\n",
    "files"
   ]
  },
  {
   "cell_type": "code",
   "execution_count": 7,
   "id": "3f70dac2-f723-4a2a-a87b-4d87dd726e38",
   "metadata": {},
   "outputs": [],
   "source": [
    "for file in files:\n",
    "    ds = xr.open_dataset(file)\n",
    "    # reduce resolution of the dataset for storage and speed reasons\n",
    "    ds_10 = ds.coarsen(lat=10, boundary='trim').mean().coarsen(lon=10, boundary='trim').mean()\n",
    "    ds_10.to_netcdf(path=file.split('.nc')[0]+ '_10km.nc')"
   ]
  },
  {
   "cell_type": "code",
   "execution_count": null,
   "id": "8b20043b-35d0-4ebd-b8c3-447fa8b5d3ae",
   "metadata": {},
   "outputs": [],
   "source": [
    "files = glob.glob(r'../data/*latlon_2022.nc')\n",
    "files\n",
    "for file in files:\n",
    "    ds = xr.open_dataset(file)\n",
    "    # reduce resolution of the dataset for storage and speed reasons\n",
    "    ds_10 = ds.coarsen(lat=10, boundary='trim').mean().coarsen(lon=10, boundary='trim').mean()\n",
    "    ds_10.to_netcdf(path=file.split('.nc')[0]+ '_10km.nc')"
   ]
  }
 ],
 "metadata": {
  "kernelspec": {
   "display_name": "Python 3 (ipykernel)",
   "language": "python",
   "name": "python3"
  },
  "language_info": {
   "codemirror_mode": {
    "name": "ipython",
    "version": 3
   },
   "file_extension": ".py",
   "mimetype": "text/x-python",
   "name": "python",
   "nbconvert_exporter": "python",
   "pygments_lexer": "ipython3",
   "version": "3.12.2"
  }
 },
 "nbformat": 4,
 "nbformat_minor": 5
}
