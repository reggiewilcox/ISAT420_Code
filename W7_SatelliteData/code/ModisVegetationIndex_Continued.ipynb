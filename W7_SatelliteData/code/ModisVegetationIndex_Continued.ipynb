{
 "cells": [
  {
   "cell_type": "markdown",
   "id": "c90b0cc1-1af1-4f66-9a95-b0d6715cfb77",
   "metadata": {},
   "source": [
    "# Modis Vegetation Index - Continued"
   ]
  },
  {
   "cell_type": "markdown",
   "id": "8ae8ee68-b4e2-4c30-9c75-2b75e6d527a9",
   "metadata": {},
   "source": [
    "Today, we continue to look into Modis data and you get to do all the work. "
   ]
  },
  {
   "cell_type": "markdown",
   "id": "3a7ea7af-3b72-4b81-be1c-1b52be92866c",
   "metadata": {},
   "source": [
    "### Task 1: Import all the modules that we need"
   ]
  },
  {
   "cell_type": "code",
   "execution_count": null,
   "id": "3e949c5d-2171-449e-b17e-0f17f9b99422",
   "metadata": {},
   "outputs": [],
   "source": [
    "# you can insert cells with the plus on the top (or with <ESC> + b )"
   ]
  },
  {
   "cell_type": "markdown",
   "id": "1d072f43-9104-4af6-a5c3-0e25c26a50d6",
   "metadata": {},
   "source": [
    "### Task 2: Load the MODIS Vegetation Index Dataset"
   ]
  },
  {
   "cell_type": "markdown",
   "id": "06be7b5a-5ddc-4eec-8645-78184a6e03c7",
   "metadata": {},
   "source": [
    "#### Task 2.1:\n",
    "\n",
    "Before you load the dataset, use `glob` to see what files are now located in the _data_-folder and only load the Vegetation Index dataset. "
   ]
  },
  {
   "cell_type": "markdown",
   "id": "246e4310-aa2c-46f1-ace9-2d66773387ef",
   "metadata": {},
   "source": [
    "### Task 3: Make a plot for EVI"
   ]
  },
  {
   "cell_type": "markdown",
   "id": "2829a079-af03-4aa8-8286-df2ba7a2b79c",
   "metadata": {},
   "source": [
    "#### Task 3.1: Save EVI as a new dataset\n",
    "\n",
    "Inspect the dataset to indentify the variable name for EVI"
   ]
  },
  {
   "cell_type": "markdown",
   "id": "b2315820-e3a6-41f3-97f6-5374749e7485",
   "metadata": {},
   "source": [
    "#### Task 3.2: Plot a map/ maps of EVI\n",
    "\n",
    "Decide on how the plot should look like. Maybe you want to switch up the colormap (`cmap=`). All available maps are found [here](https://matplotlib.org/stable/users/explain/colors/colormaps.html#overview).\n"
   ]
  },
  {
   "cell_type": "markdown",
   "id": "fe5065cd-63c8-4478-8a66-5d5d7c741fa3",
   "metadata": {},
   "source": [
    "### Task 4: Calculate EVI using the MODIS bands \n",
    "\n",
    "The [Enhanced Vegetation Index (EVI)](https://en.wikipedia.org/wiki/Enhanced_vegetation_index) is another popular vegetation index, that has some advantages over the NDVI. It is designed to \"enhance the vegetation signal with improved sensitivity in high biomass regions and improved vegetation [...] and to reduce atmospheric influences\".  \n",
    "\n",
    "EVI is calculated as:\n",
    "\n",
    "![](https://wikimedia.org/api/rest_v1/media/math/render/svg/200b046072bcb150ccc8dae9d5d2b9d4880f0597)\n",
    "\n",
    "where:\n",
    "\n",
    "-   NIR, Red, and Blue are atmospherically-corrected and partially atmosphere-corrected (Rayleigh and ozone absorption) surface reflectanc\n",
    "-    L is the canopy background adjustment that addresses non-linear, differential NIR and red radiant transfer through a cano\n",
    "- C1, C2 are the coefficients of the aerosol resistance term, which uses the blue band to correct for aerosol influences in the red band\n",
    "- \n",
    "    G is a gain factor.\r\n",
    "\r\n",
    "The coefficients adopted in the MODIS-EVI algorithm are: L=1, C1 = 6, C2 = 7.5, and G = 2.5. "
   ]
  },
  {
   "cell_type": "markdown",
   "id": "f4a65447-d50d-4b92-9078-b2cc427334ea",
   "metadata": {},
   "source": [
    "#### Task 4.1: Calculate EVI using the relevant MODIS bands "
   ]
  },
  {
   "cell_type": "markdown",
   "id": "65d65010-3a6d-4b72-9505-ae8708cc2009",
   "metadata": {},
   "source": [
    "#### Task 4.2: Compare your calculated EVI to the MODIS EVI product"
   ]
  },
  {
   "cell_type": "markdown",
   "id": "142e40c3-0c39-486b-bb0f-db6f621f81cc",
   "metadata": {},
   "source": [
    "#### Task 5: Investigate the correlation between EVI and NDVI\n",
    "\n",
    "(Hint: `xr.corr(<dataArray1>,<dataArray2>,dim = 'time')` will calculate the correlation along the time dimension.)\n",
    "[`xaray.corr()` documentation](https://docs.xarray.dev/en/stable/generated/xarray.corr.html)\n",
    "\n",
    "You can add several dimensions as a list (`dim = ['time', ...]`)"
   ]
  },
  {
   "cell_type": "markdown",
   "id": "9f98856b-485f-4214-afcb-74dd5a46b88c",
   "metadata": {},
   "source": [
    "### Task 6: The _other_ MODIS dataset\n",
    "\n",
    "You may have noticed before that another Modis dataset was added to the data folder. Load the dataset and try to find out what data it contains. \n",
    "\n",
    "(Hint: An overview of MODIS Land data products is found [here](https://ladsweb.modaps.eosdis.nasa.gov/#land). You can also google the dataset identifyer in the filenames, which starts with `MOD16`. "
   ]
  },
  {
   "cell_type": "markdown",
   "id": "90e2ed0b-00b4-4820-ae21-61ec90d31e9e",
   "metadata": {},
   "source": [
    "#### Task 5.1: Load the dataset and inspect variables and dimensions. \n",
    "\n",
    "What are similarties and differences when looking at the data structure. \n",
    "\n",
    "Feel free to create more plots. "
   ]
  },
  {
   "cell_type": "markdown",
   "id": "5eeda18a-ad1b-4a93-b6fc-51d31e0487f1",
   "metadata": {},
   "source": [
    "### Task 7: Drought Challenge\n",
    "\n",
    "Here is some information about [Evapotranspiration](https://www.nasa.gov/missions/landsat/evapotranspiration-watching-over-water-use/)\n",
    "\n",
    "How would you expect evapotranspiration to behave during drought? \n",
    "\n",
    "Discuss with your team on how to investigate this using the skills you have learned. \n",
    "\n",
    "(Hint: A useful tool can be the [Evaporative Stress Ratio (ESR)](https://www.drought.gov/data-maps-tools/evaporative-stress-index-esi), which is the ratio between Evapotranspiration and Potential Evapotranspiration:\n",
    "\n",
    "$ESR = \\frac{ET}{PET}$\n"
   ]
  },
  {
   "cell_type": "code",
   "execution_count": null,
   "id": "af2d1371-da9a-468a-9d35-0a24ddec2994",
   "metadata": {},
   "outputs": [],
   "source": []
  }
 ],
 "metadata": {
  "kernelspec": {
   "display_name": "Python 3 (ipykernel)",
   "language": "python",
   "name": "python3"
  },
  "language_info": {
   "codemirror_mode": {
    "name": "ipython",
    "version": 3
   },
   "file_extension": ".py",
   "mimetype": "text/x-python",
   "name": "python",
   "nbconvert_exporter": "python",
   "pygments_lexer": "ipython3",
   "version": "3.12.2"
  }
 },
 "nbformat": 4,
 "nbformat_minor": 5
}
