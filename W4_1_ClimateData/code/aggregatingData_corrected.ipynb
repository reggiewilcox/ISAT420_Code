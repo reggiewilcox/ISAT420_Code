{
 "cells": [
  {
   "cell_type": "markdown",
   "id": "401d5257",
   "metadata": {},
   "source": [
    "# Aggregating time series data and comparing distributions \n",
    "\n",
    "Today's goals are to compare three time series with different properties\n",
    "\n",
    "1. Temperature\n",
    "2. Precipitation\n",
    "3. Streamflow \n",
    "\n",
    "You will also get to practice your pandas skills. \n"
   ]
  },
  {
   "cell_type": "code",
   "execution_count": null,
   "id": "ba06479a",
   "metadata": {},
   "outputs": [],
   "source": [
    "# first lets import pandas and matplotlib mopdules \n",
    "import pandas as pd\n",
    "import matplotlib.pyplot as plt \n",
    "# The below command is to make sure figures show up in your notebook\n",
    "%matplotlib inline "
   ]
  },
  {
   "cell_type": "markdown",
   "id": "efdd33de",
   "metadata": {},
   "source": [
    "Now we need to read our data. Let's do the weather station data first, which we already loaded last week. \n",
    "The data csv file is is location in the `W3_1_WeatherDataTimeSeries/data/` folder and named `USC00442208_19000101-20240122.csv`"
   ]
  },
  {
   "cell_type": "code",
   "execution_count": null,
   "id": "52caa200",
   "metadata": {},
   "outputs": [],
   "source": [
    "# complete the line below to point to the correct weather data file\n",
    "weatherDataPath = \n",
    "#\n",
    "weatherData = pd.read_csv(weatherDataPath,\n",
    "                    #  Make sure the dates import in datetime format. We tell pandas that this is a date and not text. \n",
    "                    parse_dates = ['DATE'],\n",
    "                    #  Set DATE as the index so you can subset data by time period\n",
    "                    index_col = ['DATE']\n",
    "                      )\n",
    "\n",
    "\n",
    "weatherData"
   ]
  },
  {
   "cell_type": "markdown",
   "id": "a58261c3",
   "metadata": {},
   "source": [
    "Next we will read the stream discharge data. Before loading the data have a look at the file contents, located in the `data`-directory. You will see some key differences between the weather station data and this data. \n",
    "\n",
    "- There are quite a few lines without data, that we have to skip\n",
    "- Data is delimited by `Tab` and not `,`\n",
    "\n",
    "[`pandas.read_csv`](https://pandas.pydata.org/pandas-docs/stable/reference/api/pandas.read_csv.html) has many options that help us to deal with pretty complex files. Here we set `skiprows` and `delimiter`. We also provide a list of column names for our data frame. "
   ]
  },
  {
   "cell_type": "code",
   "execution_count": null,
   "id": "a7fe1d57",
   "metadata": {},
   "outputs": [],
   "source": [
    "dischargeData = pd.read_csv('../data/USGS_01622000.txt', \n",
    "                        skiprows=31,\n",
    "                        delimiter='\\t', \n",
    "                        names = ['agency', 'stationID', 'date','discharge_cfs','label'], # I am\n",
    "                        parse_dates = ['date'],\n",
    "                        index_col = ['date'])\n",
    "dischargeData "
   ]
  },
  {
   "cell_type": "markdown",
   "id": "75cc6388",
   "metadata": {},
   "source": [
    "Right now our data is in two different dataframes. Lets change that and merge all data into a single data frame. \n",
    "\n",
    "Note: [Combining dataframes](https://pandas.pydata.org/pandas-docs/stable/user_guide/merging.html) can be complicated very quickly, depending on how exactly you want to do it. \n",
    "\n",
    "In our case, we want to aling our data by the date, which is the `index` of both dataframes. \n",
    "\n",
    "We can simply copy the `'TMAX'` and `'PRCP'` columns to a new dataframe and then add assing the discharge data to a new column in the same dataframe called `discharge`. \n",
    "\n"
   ]
  },
  {
   "cell_type": "code",
   "execution_count": null,
   "id": "89f2dbdb",
   "metadata": {},
   "outputs": [],
   "source": [
    "# Complete the code below and check what happened. How was the data alinged? \n",
    "listOfColumns = \n",
    "dataCombined = weatherData[listOfColumns].copy() \n",
    "dataCombined['discharge']= dischargeData['discharge_cfs'] \n",
    "\n",
    "dataCombined"
   ]
  },
  {
   "cell_type": "markdown",
   "id": "d94c9cbd",
   "metadata": {},
   "source": [
    "Let's quickly look at 10 years of data using the temporal subsetting with `.loc[]`. How about for the time period between 1990 and 2000?"
   ]
  },
  {
   "cell_type": "code",
   "execution_count": null,
   "id": "5c799428",
   "metadata": {},
   "outputs": [],
   "source": [
    "dataCombined.loc[].plot(subplots = True)"
   ]
  },
  {
   "cell_type": "markdown",
   "id": "af0aaf1c",
   "metadata": {},
   "source": [
    "Now lets look at some basic statistics using `.describe()`"
   ]
  },
  {
   "cell_type": "code",
   "execution_count": null,
   "id": "efd96465",
   "metadata": {},
   "outputs": [],
   "source": [
    "# Enter your code here"
   ]
  },
  {
   "cell_type": "markdown",
   "id": "a33beb12",
   "metadata": {},
   "source": [
    "<div class=\"alert alert-info\" role=\"alert\">\n",
    "<h3 class=\"alert-heading\">Questions</h3>\n",
    "    \n",
    "What do you notice about the data?\n",
    "\n",
    "Do these statistics tell use something important?\n",
    "\n",
    "</div>\n",
    "\n",
    "The answer is yes, there is something important, but that is way easier to see using plots.\n",
    "\n",
    "`Histograms` and `boxplots` are both graph types that visualize distributions. \n",
    "\n",
    "Let's create histograms first for all three variables.  \n",
    "\n",
    "You can either create three separate histograms. Try this! You should add sensible bin numbers (`bins`) and labels to your figures. You should also set the ylimit to make sure the plots look sensible `ylim=[start, end].\n",
    "The [`.plot()` documentation](https://pandas.pydata.org/pandas-docs/stable/reference/api/pandas.DataFrame.plot.html) shows you all the options. You can also look at the previos week's code."
   ]
  },
  {
   "cell_type": "code",
   "execution_count": null,
   "id": "268e440b",
   "metadata": {},
   "outputs": [],
   "source": [
    "# Complete the 3 plots \n",
    "dataCombined.plot()\n",
    "...\n"
   ]
  },
  {
   "cell_type": "markdown",
   "id": "e86601f7",
   "metadata": {},
   "source": [
    "You can also have _matplotlib_ do all of them at the same time in subplots by setting the `subplots=True`. See what happens. "
   ]
  },
  {
   "cell_type": "code",
   "execution_count": null,
   "id": "8b0eb99b",
   "metadata": {},
   "outputs": [],
   "source": [
    "dataCombined.plot(kind='hist', subplots=True)"
   ]
  },
  {
   "cell_type": "markdown",
   "id": "e74fa266",
   "metadata": {},
   "source": [
    "<div class=\"alert alert-info\" role=\"alert\">\n",
    "<h3 class=\"alert-heading\">Questions</h3>\n",
    "    \n",
    "What is the problem here? \n",
    "\n",
    "</div>\n"
   ]
  },
  {
   "cell_type": "markdown",
   "id": "43016916",
   "metadata": {},
   "source": [
    "[Box plots](https://pandas.pydata.org/pandas-docs/stable/reference/api/pandas.DataFrame.boxplot.html) are another more compact way of describing the data. Let's focus on streamflow for a moment and create a new plot with setting `kind='box'`. \n"
   ]
  },
  {
   "cell_type": "code",
   "execution_count": null,
   "id": "dc8b172b",
   "metadata": {},
   "outputs": [],
   "source": [
    "dataCombined.plot()"
   ]
  },
  {
   "cell_type": "markdown",
   "id": "474c25db",
   "metadata": {},
   "source": [
    "Before we move on to climate data, lets inspect `'PRCP'`. Unlike temperature and discharge, we don't expect rain on most days and so we have a lot of zeros in the data set, which are real data. \n",
    "\n",
    "We can use the `.loc[]` command with a condition (for example `dataCombined['PRCP'] > 0` to select only days with precipitation. \n",
    "Using the `.count()` we get the number of non-zeros. \n",
    "\n",
    "**Quick challenge: What the the change of rain on any given day? How would you do that?**"
   ]
  },
  {
   "cell_type": "code",
   "execution_count": null,
   "id": "f3c21df6",
   "metadata": {},
   "outputs": [],
   "source": [
    "condition = dataCombined['PRCP']>0\n",
    "dataCombined['PRCP'].loc[condition].count()\n",
    "\n"
   ]
  },
  {
   "cell_type": "markdown",
   "id": "7194c148",
   "metadata": {},
   "source": [
    "## Aggregating weather data to climate data\n",
    "\n",
    "Because there is a lot of variability between years, we need to aggregate our data to [climate periods](https://www.ncei.noaa.gov/products/land-based-station/us-climate-normals), typically taken to be 30-years of data.\n",
    "\n",
    "Luckily you already know how to do that using `.pivot_table`\n",
    "\n",
    "<div class=\"alert alert-warning\" role=\"warning\">\n",
    "<h3 class=\"alert-heading\">Challenge</h3>\n",
    "    \n",
    "- Use the pivot_table function to create\n",
    "    - mean monthly temperature\n",
    "    - total (sum) monthly precipitation\n",
    "    - mean monthly discharge \n",
    "- Select data from 1990 to 2020\n",
    "- Create three plots showing your results. \n",
    "</div>\n",
    "\n"
   ]
  },
  {
   "cell_type": "code",
   "execution_count": null,
   "id": "678b6b94",
   "metadata": {},
   "outputs": [],
   "source": [
    "dataCombined['year']=dataCombined.index.year\n",
    "dataCombined['month']=dataCombined.index.month\n",
    "\n",
    "# Complete the code below for the pivot tables and the plots "
   ]
  },
  {
   "cell_type": "markdown",
   "id": "0e109e07",
   "metadata": {},
   "source": [
    "<div class=\"alert alert-info\" role=\"alert\">\n",
    "<h3 class=\"alert-heading\">Questions</h3>\n",
    "    \n",
    "How do you explain these data?\n",
    "\n",
    "What do you notice about streamflow, when looking at precipitation?\n",
    "\n",
    "Do they likely influence each other\n",
    "\n",
    "</div>\n",
    "\n",
    "We can also plot these two as a scatter plot to investigate further. "
   ]
  },
  {
   "cell_type": "code",
   "execution_count": null,
   "id": "046eb91f",
   "metadata": {},
   "outputs": [],
   "source": [
    "dataCombined.plot(kind='scatter',x='PRCP',y='discharge')\n"
   ]
  },
  {
   "cell_type": "markdown",
   "id": "93f3c563",
   "metadata": {},
   "source": [
    "# Take-away/ Conclusions\n",
    "\n",
    "- Why does this matter? \n",
    "- Why do we need to know the shape of the variable distributions, when we think about climate data and climate risk? \n",
    "    - What do you think? \n",
    "\n"
   ]
  },
  {
   "cell_type": "code",
   "execution_count": null,
   "id": "15a8cfc0",
   "metadata": {},
   "outputs": [],
   "source": []
  }
 ],
 "metadata": {
  "kernelspec": {
   "display_name": "Python 3 (ipykernel)",
   "language": "python",
   "name": "python3"
  },
  "language_info": {
   "codemirror_mode": {
    "name": "ipython",
    "version": 3
   },
   "file_extension": ".py",
   "mimetype": "text/x-python",
   "name": "python",
   "nbconvert_exporter": "python",
   "pygments_lexer": "ipython3",
   "version": "3.10.13"
  }
 },
 "nbformat": 4,
 "nbformat_minor": 5
}
