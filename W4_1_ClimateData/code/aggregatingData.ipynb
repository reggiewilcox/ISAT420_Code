{
 "cells": [
  {
   "cell_type": "markdown",
   "id": "401d5257",
   "metadata": {},
   "source": [
    "# Aggregating time series data and comparing distributions \n",
    "\n",
    "Today's goals are to compare three time series with different properties\n",
    "\n",
    "1. Temperature\n",
    "2. Precipitation\n",
    "3. Streamflow \n",
    "\n",
    "You will also get to practice your pandas skills. \n"
   ]
  },
  {
   "cell_type": "code",
   "execution_count": 1,
   "id": "ba06479a",
   "metadata": {},
   "outputs": [],
   "source": [
    "# first lets import pandas and matplotlib mopdules \n",
    "import pandas as pd\n",
    "import matplotlib.pyplot as plt \n",
    "# The below command is to make sure figures show up in your notebook\n",
    "%matplotlib inline "
   ]
  },
  {
   "cell_type": "markdown",
   "id": "efdd33de",
   "metadata": {},
   "source": [
    "Now we need to read our data. Let's do the weather station data first, which we already loaded last week. \n",
    "The data csv file is is location in the `W3_1_WeatherDataTimeSeries/data/` folder and named `USC00442208_19000101-20240122.csv`"
   ]
  },
  {
   "cell_type": "code",
   "execution_count": 2,
   "id": "52caa200",
   "metadata": {},
   "outputs": [
    {
     "data": {
      "text/html": [
       "<div>\n",
       "<style scoped>\n",
       "    .dataframe tbody tr th:only-of-type {\n",
       "        vertical-align: middle;\n",
       "    }\n",
       "\n",
       "    .dataframe tbody tr th {\n",
       "        vertical-align: top;\n",
       "    }\n",
       "\n",
       "    .dataframe thead th {\n",
       "        text-align: right;\n",
       "    }\n",
       "</style>\n",
       "<table border=\"1\" class=\"dataframe\">\n",
       "  <thead>\n",
       "    <tr style=\"text-align: right;\">\n",
       "      <th></th>\n",
       "      <th>STATION</th>\n",
       "      <th>NAME</th>\n",
       "      <th>DAPR</th>\n",
       "      <th>MDPR</th>\n",
       "      <th>PRCP</th>\n",
       "      <th>SNOW</th>\n",
       "      <th>SNWD</th>\n",
       "      <th>TMAX</th>\n",
       "      <th>TMIN</th>\n",
       "      <th>TOBS</th>\n",
       "      <th>WESD</th>\n",
       "    </tr>\n",
       "    <tr>\n",
       "      <th>DATE</th>\n",
       "      <th></th>\n",
       "      <th></th>\n",
       "      <th></th>\n",
       "      <th></th>\n",
       "      <th></th>\n",
       "      <th></th>\n",
       "      <th></th>\n",
       "      <th></th>\n",
       "      <th></th>\n",
       "      <th></th>\n",
       "      <th></th>\n",
       "    </tr>\n",
       "  </thead>\n",
       "  <tbody>\n",
       "    <tr>\n",
       "      <th>1900-01-01</th>\n",
       "      <td>USC00442208</td>\n",
       "      <td>DALE ENTERPRISE, VA US</td>\n",
       "      <td>NaN</td>\n",
       "      <td>NaN</td>\n",
       "      <td>0.0</td>\n",
       "      <td>0.0</td>\n",
       "      <td>25.0</td>\n",
       "      <td>-5.6</td>\n",
       "      <td>-14.4</td>\n",
       "      <td>NaN</td>\n",
       "      <td>NaN</td>\n",
       "    </tr>\n",
       "    <tr>\n",
       "      <th>1900-01-02</th>\n",
       "      <td>USC00442208</td>\n",
       "      <td>DALE ENTERPRISE, VA US</td>\n",
       "      <td>NaN</td>\n",
       "      <td>NaN</td>\n",
       "      <td>0.0</td>\n",
       "      <td>0.0</td>\n",
       "      <td>0.0</td>\n",
       "      <td>1.7</td>\n",
       "      <td>-17.2</td>\n",
       "      <td>NaN</td>\n",
       "      <td>NaN</td>\n",
       "    </tr>\n",
       "    <tr>\n",
       "      <th>1900-01-03</th>\n",
       "      <td>USC00442208</td>\n",
       "      <td>DALE ENTERPRISE, VA US</td>\n",
       "      <td>NaN</td>\n",
       "      <td>NaN</td>\n",
       "      <td>0.0</td>\n",
       "      <td>0.0</td>\n",
       "      <td>0.0</td>\n",
       "      <td>2.8</td>\n",
       "      <td>-12.8</td>\n",
       "      <td>NaN</td>\n",
       "      <td>NaN</td>\n",
       "    </tr>\n",
       "    <tr>\n",
       "      <th>1900-01-04</th>\n",
       "      <td>USC00442208</td>\n",
       "      <td>DALE ENTERPRISE, VA US</td>\n",
       "      <td>NaN</td>\n",
       "      <td>NaN</td>\n",
       "      <td>0.0</td>\n",
       "      <td>0.0</td>\n",
       "      <td>0.0</td>\n",
       "      <td>5.6</td>\n",
       "      <td>-16.1</td>\n",
       "      <td>NaN</td>\n",
       "      <td>NaN</td>\n",
       "    </tr>\n",
       "    <tr>\n",
       "      <th>1900-01-05</th>\n",
       "      <td>USC00442208</td>\n",
       "      <td>DALE ENTERPRISE, VA US</td>\n",
       "      <td>NaN</td>\n",
       "      <td>NaN</td>\n",
       "      <td>0.0</td>\n",
       "      <td>0.0</td>\n",
       "      <td>0.0</td>\n",
       "      <td>11.7</td>\n",
       "      <td>-5.6</td>\n",
       "      <td>NaN</td>\n",
       "      <td>NaN</td>\n",
       "    </tr>\n",
       "    <tr>\n",
       "      <th>...</th>\n",
       "      <td>...</td>\n",
       "      <td>...</td>\n",
       "      <td>...</td>\n",
       "      <td>...</td>\n",
       "      <td>...</td>\n",
       "      <td>...</td>\n",
       "      <td>...</td>\n",
       "      <td>...</td>\n",
       "      <td>...</td>\n",
       "      <td>...</td>\n",
       "      <td>...</td>\n",
       "    </tr>\n",
       "    <tr>\n",
       "      <th>2024-01-18</th>\n",
       "      <td>USC00442208</td>\n",
       "      <td>DALE ENTERPRISE, VA US</td>\n",
       "      <td>NaN</td>\n",
       "      <td>NaN</td>\n",
       "      <td>0.0</td>\n",
       "      <td>0.0</td>\n",
       "      <td>25.0</td>\n",
       "      <td>NaN</td>\n",
       "      <td>NaN</td>\n",
       "      <td>NaN</td>\n",
       "      <td>NaN</td>\n",
       "    </tr>\n",
       "    <tr>\n",
       "      <th>2024-01-19</th>\n",
       "      <td>USC00442208</td>\n",
       "      <td>DALE ENTERPRISE, VA US</td>\n",
       "      <td>NaN</td>\n",
       "      <td>NaN</td>\n",
       "      <td>2.5</td>\n",
       "      <td>18.0</td>\n",
       "      <td>25.0</td>\n",
       "      <td>NaN</td>\n",
       "      <td>NaN</td>\n",
       "      <td>NaN</td>\n",
       "      <td>NaN</td>\n",
       "    </tr>\n",
       "    <tr>\n",
       "      <th>2024-01-20</th>\n",
       "      <td>USC00442208</td>\n",
       "      <td>DALE ENTERPRISE, VA US</td>\n",
       "      <td>NaN</td>\n",
       "      <td>NaN</td>\n",
       "      <td>0.0</td>\n",
       "      <td>0.0</td>\n",
       "      <td>25.0</td>\n",
       "      <td>NaN</td>\n",
       "      <td>NaN</td>\n",
       "      <td>NaN</td>\n",
       "      <td>NaN</td>\n",
       "    </tr>\n",
       "    <tr>\n",
       "      <th>2024-01-21</th>\n",
       "      <td>USC00442208</td>\n",
       "      <td>DALE ENTERPRISE, VA US</td>\n",
       "      <td>NaN</td>\n",
       "      <td>NaN</td>\n",
       "      <td>0.0</td>\n",
       "      <td>0.0</td>\n",
       "      <td>25.0</td>\n",
       "      <td>-3.9</td>\n",
       "      <td>-12.8</td>\n",
       "      <td>-13.3</td>\n",
       "      <td>NaN</td>\n",
       "    </tr>\n",
       "    <tr>\n",
       "      <th>2024-01-22</th>\n",
       "      <td>USC00442208</td>\n",
       "      <td>DALE ENTERPRISE, VA US</td>\n",
       "      <td>NaN</td>\n",
       "      <td>NaN</td>\n",
       "      <td>0.0</td>\n",
       "      <td>0.0</td>\n",
       "      <td>25.0</td>\n",
       "      <td>-0.6</td>\n",
       "      <td>-14.4</td>\n",
       "      <td>-12.8</td>\n",
       "      <td>NaN</td>\n",
       "    </tr>\n",
       "  </tbody>\n",
       "</table>\n",
       "<p>44987 rows × 11 columns</p>\n",
       "</div>"
      ],
      "text/plain": [
       "                STATION                    NAME  DAPR  MDPR  PRCP  SNOW  SNWD  \\\n",
       "DATE                                                                            \n",
       "1900-01-01  USC00442208  DALE ENTERPRISE, VA US   NaN   NaN   0.0   0.0  25.0   \n",
       "1900-01-02  USC00442208  DALE ENTERPRISE, VA US   NaN   NaN   0.0   0.0   0.0   \n",
       "1900-01-03  USC00442208  DALE ENTERPRISE, VA US   NaN   NaN   0.0   0.0   0.0   \n",
       "1900-01-04  USC00442208  DALE ENTERPRISE, VA US   NaN   NaN   0.0   0.0   0.0   \n",
       "1900-01-05  USC00442208  DALE ENTERPRISE, VA US   NaN   NaN   0.0   0.0   0.0   \n",
       "...                 ...                     ...   ...   ...   ...   ...   ...   \n",
       "2024-01-18  USC00442208  DALE ENTERPRISE, VA US   NaN   NaN   0.0   0.0  25.0   \n",
       "2024-01-19  USC00442208  DALE ENTERPRISE, VA US   NaN   NaN   2.5  18.0  25.0   \n",
       "2024-01-20  USC00442208  DALE ENTERPRISE, VA US   NaN   NaN   0.0   0.0  25.0   \n",
       "2024-01-21  USC00442208  DALE ENTERPRISE, VA US   NaN   NaN   0.0   0.0  25.0   \n",
       "2024-01-22  USC00442208  DALE ENTERPRISE, VA US   NaN   NaN   0.0   0.0  25.0   \n",
       "\n",
       "            TMAX  TMIN  TOBS  WESD  \n",
       "DATE                                \n",
       "1900-01-01  -5.6 -14.4   NaN   NaN  \n",
       "1900-01-02   1.7 -17.2   NaN   NaN  \n",
       "1900-01-03   2.8 -12.8   NaN   NaN  \n",
       "1900-01-04   5.6 -16.1   NaN   NaN  \n",
       "1900-01-05  11.7  -5.6   NaN   NaN  \n",
       "...          ...   ...   ...   ...  \n",
       "2024-01-18   NaN   NaN   NaN   NaN  \n",
       "2024-01-19   NaN   NaN   NaN   NaN  \n",
       "2024-01-20   NaN   NaN   NaN   NaN  \n",
       "2024-01-21  -3.9 -12.8 -13.3   NaN  \n",
       "2024-01-22  -0.6 -14.4 -12.8   NaN  \n",
       "\n",
       "[44987 rows x 11 columns]"
      ]
     },
     "execution_count": 2,
     "metadata": {},
     "output_type": "execute_result"
    }
   ],
   "source": [
    "# complete the line below to point to the correct weather data file\n",
    "weatherDataPath = '../../W3_1_WeatherDataTimeSeries/data/USC00442208_19000101-20240122.csv'\n",
    "#\n",
    "weatherData = pd.read_csv(weatherDataPath,\n",
    "                    #  Make sure the dates import in datetime format. We tell pandas that this is a date and not text. \n",
    "                    parse_dates = ['DATE'],\n",
    "                    #  Set DATE as the index so you can subset data by time period\n",
    "                    index_col = ['DATE']\n",
    "                      )\n",
    "\n",
    "\n",
    "weatherData"
   ]
  },
  {
   "cell_type": "markdown",
   "id": "a58261c3",
   "metadata": {},
   "source": [
    "Next we will read the stream discharge data. Before loading the data have a look at the file contents, located in the `data`-directory. You will see some key differences between the weather station data and this data. \n",
    "\n",
    "- There are quite a few lines without data, that we have to skip\n",
    "- Data is delimited by `Tab` and not `,`\n",
    "\n",
    "[`pandas.read_csv`](https://pandas.pydata.org/pandas-docs/stable/reference/api/pandas.read_csv.html) has many options that help us to deal with pretty complex files. Here we set `skiprows` and `delimiter`. We also provide a list of column names for our data frame. "
   ]
  },
  {
   "cell_type": "code",
   "execution_count": 4,
   "id": "a7fe1d57",
   "metadata": {},
   "outputs": [
    {
     "data": {
      "text/html": [
       "<div>\n",
       "<style scoped>\n",
       "    .dataframe tbody tr th:only-of-type {\n",
       "        vertical-align: middle;\n",
       "    }\n",
       "\n",
       "    .dataframe tbody tr th {\n",
       "        vertical-align: top;\n",
       "    }\n",
       "\n",
       "    .dataframe thead th {\n",
       "        text-align: right;\n",
       "    }\n",
       "</style>\n",
       "<table border=\"1\" class=\"dataframe\">\n",
       "  <thead>\n",
       "    <tr style=\"text-align: right;\">\n",
       "      <th></th>\n",
       "      <th>agency</th>\n",
       "      <th>stationID</th>\n",
       "      <th>discharge_cfs</th>\n",
       "      <th>label</th>\n",
       "    </tr>\n",
       "    <tr>\n",
       "      <th>date</th>\n",
       "      <th></th>\n",
       "      <th></th>\n",
       "      <th></th>\n",
       "      <th></th>\n",
       "    </tr>\n",
       "  </thead>\n",
       "  <tbody>\n",
       "    <tr>\n",
       "      <th>1927-01-01</th>\n",
       "      <td>USGS</td>\n",
       "      <td>1622000</td>\n",
       "      <td>684.0</td>\n",
       "      <td>A</td>\n",
       "    </tr>\n",
       "    <tr>\n",
       "      <th>1927-01-02</th>\n",
       "      <td>USGS</td>\n",
       "      <td>1622000</td>\n",
       "      <td>610.0</td>\n",
       "      <td>A</td>\n",
       "    </tr>\n",
       "    <tr>\n",
       "      <th>1927-01-03</th>\n",
       "      <td>USGS</td>\n",
       "      <td>1622000</td>\n",
       "      <td>573.0</td>\n",
       "      <td>A</td>\n",
       "    </tr>\n",
       "    <tr>\n",
       "      <th>1927-01-04</th>\n",
       "      <td>USGS</td>\n",
       "      <td>1622000</td>\n",
       "      <td>492.0</td>\n",
       "      <td>A</td>\n",
       "    </tr>\n",
       "    <tr>\n",
       "      <th>1927-01-05</th>\n",
       "      <td>USGS</td>\n",
       "      <td>1622000</td>\n",
       "      <td>455.0</td>\n",
       "      <td>A</td>\n",
       "    </tr>\n",
       "    <tr>\n",
       "      <th>...</th>\n",
       "      <td>...</td>\n",
       "      <td>...</td>\n",
       "      <td>...</td>\n",
       "      <td>...</td>\n",
       "    </tr>\n",
       "    <tr>\n",
       "      <th>2024-02-06</th>\n",
       "      <td>USGS</td>\n",
       "      <td>1622000</td>\n",
       "      <td>376.0</td>\n",
       "      <td>P</td>\n",
       "    </tr>\n",
       "    <tr>\n",
       "      <th>2024-02-07</th>\n",
       "      <td>USGS</td>\n",
       "      <td>1622000</td>\n",
       "      <td>327.0</td>\n",
       "      <td>P</td>\n",
       "    </tr>\n",
       "    <tr>\n",
       "      <th>2024-02-08</th>\n",
       "      <td>USGS</td>\n",
       "      <td>1622000</td>\n",
       "      <td>289.0</td>\n",
       "      <td>P</td>\n",
       "    </tr>\n",
       "    <tr>\n",
       "      <th>2024-02-09</th>\n",
       "      <td>USGS</td>\n",
       "      <td>1622000</td>\n",
       "      <td>262.0</td>\n",
       "      <td>P</td>\n",
       "    </tr>\n",
       "    <tr>\n",
       "      <th>2024-02-10</th>\n",
       "      <td>USGS</td>\n",
       "      <td>1622000</td>\n",
       "      <td>237.0</td>\n",
       "      <td>P</td>\n",
       "    </tr>\n",
       "  </tbody>\n",
       "</table>\n",
       "<p>35470 rows × 4 columns</p>\n",
       "</div>"
      ],
      "text/plain": [
       "           agency  stationID  discharge_cfs label\n",
       "date                                             \n",
       "1927-01-01   USGS    1622000          684.0     A\n",
       "1927-01-02   USGS    1622000          610.0     A\n",
       "1927-01-03   USGS    1622000          573.0     A\n",
       "1927-01-04   USGS    1622000          492.0     A\n",
       "1927-01-05   USGS    1622000          455.0     A\n",
       "...           ...        ...            ...   ...\n",
       "2024-02-06   USGS    1622000          376.0     P\n",
       "2024-02-07   USGS    1622000          327.0     P\n",
       "2024-02-08   USGS    1622000          289.0     P\n",
       "2024-02-09   USGS    1622000          262.0     P\n",
       "2024-02-10   USGS    1622000          237.0     P\n",
       "\n",
       "[35470 rows x 4 columns]"
      ]
     },
     "execution_count": 4,
     "metadata": {},
     "output_type": "execute_result"
    }
   ],
   "source": [
    "dischargeData = pd.read_csv('../data/USGS_01622000.txt', \n",
    "                        skiprows=31,\n",
    "                        delimiter='\\t', \n",
    "                        names = ['agency', 'stationID', 'date','discharge_cfs','label'], # I am\n",
    "                        parse_dates = ['date'],\n",
    "                        index_col = ['date'])\n",
    "dischargeData "
   ]
  },
  {
   "cell_type": "markdown",
   "id": "75cc6388",
   "metadata": {},
   "source": [
    "Right now our data is in two different dataframes. Lets change that and merge all data into a single data frame. \n",
    "\n",
    "Note: [Combining dataframes](https://pandas.pydata.org/pandas-docs/stable/user_guide/merging.html) can be complicated very quickly, depending on how exactly you want to do it. \n",
    "\n",
    "In our case, we want to aling our data by the date, which is the `index` of both dataframes. \n",
    "\n",
    "We can simply copy the `'TMAX'` and `PCRP` columns to a new dataframe and then add assing the discharge data to a new column in the same dataframe called `discharge`. \n",
    "\n"
   ]
  },
  {
   "cell_type": "code",
   "execution_count": 6,
   "id": "89f2dbdb",
   "metadata": {},
   "outputs": [
    {
     "data": {
      "text/html": [
       "<div>\n",
       "<style scoped>\n",
       "    .dataframe tbody tr th:only-of-type {\n",
       "        vertical-align: middle;\n",
       "    }\n",
       "\n",
       "    .dataframe tbody tr th {\n",
       "        vertical-align: top;\n",
       "    }\n",
       "\n",
       "    .dataframe thead th {\n",
       "        text-align: right;\n",
       "    }\n",
       "</style>\n",
       "<table border=\"1\" class=\"dataframe\">\n",
       "  <thead>\n",
       "    <tr style=\"text-align: right;\">\n",
       "      <th></th>\n",
       "      <th>TMAX</th>\n",
       "      <th>PRCP</th>\n",
       "      <th>discharge</th>\n",
       "    </tr>\n",
       "    <tr>\n",
       "      <th>DATE</th>\n",
       "      <th></th>\n",
       "      <th></th>\n",
       "      <th></th>\n",
       "    </tr>\n",
       "  </thead>\n",
       "  <tbody>\n",
       "    <tr>\n",
       "      <th>1900-01-01</th>\n",
       "      <td>-5.6</td>\n",
       "      <td>0.0</td>\n",
       "      <td>NaN</td>\n",
       "    </tr>\n",
       "    <tr>\n",
       "      <th>1900-01-02</th>\n",
       "      <td>1.7</td>\n",
       "      <td>0.0</td>\n",
       "      <td>NaN</td>\n",
       "    </tr>\n",
       "    <tr>\n",
       "      <th>1900-01-03</th>\n",
       "      <td>2.8</td>\n",
       "      <td>0.0</td>\n",
       "      <td>NaN</td>\n",
       "    </tr>\n",
       "    <tr>\n",
       "      <th>1900-01-04</th>\n",
       "      <td>5.6</td>\n",
       "      <td>0.0</td>\n",
       "      <td>NaN</td>\n",
       "    </tr>\n",
       "    <tr>\n",
       "      <th>1900-01-05</th>\n",
       "      <td>11.7</td>\n",
       "      <td>0.0</td>\n",
       "      <td>NaN</td>\n",
       "    </tr>\n",
       "    <tr>\n",
       "      <th>...</th>\n",
       "      <td>...</td>\n",
       "      <td>...</td>\n",
       "      <td>...</td>\n",
       "    </tr>\n",
       "    <tr>\n",
       "      <th>2024-01-18</th>\n",
       "      <td>NaN</td>\n",
       "      <td>0.0</td>\n",
       "      <td>447.0</td>\n",
       "    </tr>\n",
       "    <tr>\n",
       "      <th>2024-01-19</th>\n",
       "      <td>NaN</td>\n",
       "      <td>2.5</td>\n",
       "      <td>386.0</td>\n",
       "    </tr>\n",
       "    <tr>\n",
       "      <th>2024-01-20</th>\n",
       "      <td>NaN</td>\n",
       "      <td>0.0</td>\n",
       "      <td>321.0</td>\n",
       "    </tr>\n",
       "    <tr>\n",
       "      <th>2024-01-21</th>\n",
       "      <td>-3.9</td>\n",
       "      <td>0.0</td>\n",
       "      <td>263.0</td>\n",
       "    </tr>\n",
       "    <tr>\n",
       "      <th>2024-01-22</th>\n",
       "      <td>-0.6</td>\n",
       "      <td>0.0</td>\n",
       "      <td>234.0</td>\n",
       "    </tr>\n",
       "  </tbody>\n",
       "</table>\n",
       "<p>44987 rows × 3 columns</p>\n",
       "</div>"
      ],
      "text/plain": [
       "            TMAX  PRCP  discharge\n",
       "DATE                             \n",
       "1900-01-01  -5.6   0.0        NaN\n",
       "1900-01-02   1.7   0.0        NaN\n",
       "1900-01-03   2.8   0.0        NaN\n",
       "1900-01-04   5.6   0.0        NaN\n",
       "1900-01-05  11.7   0.0        NaN\n",
       "...          ...   ...        ...\n",
       "2024-01-18   NaN   0.0      447.0\n",
       "2024-01-19   NaN   2.5      386.0\n",
       "2024-01-20   NaN   0.0      321.0\n",
       "2024-01-21  -3.9   0.0      263.0\n",
       "2024-01-22  -0.6   0.0      234.0\n",
       "\n",
       "[44987 rows x 3 columns]"
      ]
     },
     "execution_count": 6,
     "metadata": {},
     "output_type": "execute_result"
    }
   ],
   "source": [
    "# Complete the code below and check what happened. How was the data alinged? \n",
    "listOfColumns = ['TMAX','PRCP']\n",
    "dataCombined = weatherData[listOfColumns].copy() \n",
    "dataCombined['discharge']= dischargeData['discharge_cfs'] \n",
    "\n",
    "dataCombined"
   ]
  },
  {
   "cell_type": "markdown",
   "id": "d94c9cbd",
   "metadata": {},
   "source": [
    "Let's quickly look at 10 years of data using the temporal subsetting with `.loc[]`. How about for the time period between 1990 and 2000?"
   ]
  },
  {
   "cell_type": "code",
   "execution_count": null,
   "id": "5c799428",
   "metadata": {},
   "outputs": [],
   "source": [
    "dataCombined.loc[].plot(subplots = True)"
   ]
  },
  {
   "cell_type": "markdown",
   "id": "af0aaf1c",
   "metadata": {},
   "source": [
    "Now lets look at some basic statistics using `.describe()`"
   ]
  },
  {
   "cell_type": "code",
   "execution_count": null,
   "id": "efd96465",
   "metadata": {},
   "outputs": [],
   "source": [
    "# Enter your code here"
   ]
  },
  {
   "cell_type": "markdown",
   "id": "a33beb12",
   "metadata": {},
   "source": [
    "<div class=\"alert alert-info\" role=\"alert\">\n",
    "<h3 class=\"alert-heading\">Questions</h3>\n",
    "    \n",
    "What do you notice about the data?\n",
    "\n",
    "Do these statistics tell use something important?\n",
    "\n",
    "</div>\n",
    "\n",
    "The answer is yes, there is something important, but that is way easier to see using plots.\n",
    "\n",
    "`Histograms` and `boxplots` are both graph types that visualize distributions. \n",
    "\n",
    "Let's create histograms first for all three variables.  \n",
    "\n",
    "You can either create three separate histograms. Try this! You should add sensible bin numbers (`bins`) and labels to your figures. You should also set the ylimit to make sure the plots look sensible `ylim=[start, end].\n",
    "The [`.plot()` documentation](https://pandas.pydata.org/pandas-docs/stable/reference/api/pandas.DataFrame.plot.html) shows you all the options. You can also look at the previos week's code."
   ]
  },
  {
   "cell_type": "code",
   "execution_count": 10,
   "id": "268e440b",
   "metadata": {},
   "outputs": [
    {
     "data": {
      "text/plain": [
       "Ellipsis"
      ]
     },
     "execution_count": 10,
     "metadata": {},
     "output_type": "execute_result"
    },
    {
     "data": {
      "image/png": "[encoded data removed]",
      "text/plain": [
       "<Figure size 640x480 with 1 Axes>"
      ]
     },
     "metadata": {},
     "output_type": "display_data"
    },
    {
     "data": {
      "image/png": "[encoded data removed]",
      "text/plain": [
       "<Figure size 640x480 with 1 Axes>"
      ]
     },
     "metadata": {},
     "output_type": "display_data"
    }
   ],
   "source": [
    "# Complete the 3 plots \n",
    "dataCombined.plot(kind='hist', y='TMAX')\n",
    "dataCombined.plot(kind='hist', y='PRCP', bins=50 , xlim=[0,100])\n",
    "\n",
    "...\n"
   ]
  },
  {
   "cell_type": "markdown",
   "id": "e86601f7",
   "metadata": {},
   "source": [
    "You can also have _matplotlib_ do all of them at the same time in subplots by setting the `subplots=True`. See what happens. "
   ]
  },
  {
   "cell_type": "code",
   "execution_count": 12,
   "id": "8b0eb99b",
   "metadata": {},
   "outputs": [
    {
     "data": {
      "text/plain": [
       "array([<Axes: ylabel='Frequency'>, <Axes: ylabel='Frequency'>,\n",
       "       <Axes: ylabel='Frequency'>], dtype=object)"
      ]
     },
     "execution_count": 12,
     "metadata": {},
     "output_type": "execute_result"
    },
    {
     "data": {
      "image/png": "[encoded data removed]",
      "text/plain": [
       "<Figure size 640x480 with 3 Axes>"
      ]
     },
     "metadata": {},
     "output_type": "display_data"
    }
   ],
   "source": [
    "dataCombined.plot(kind='hist', subplots=True)"
   ]
  },
  {
   "cell_type": "markdown",
   "id": "e74fa266",
   "metadata": {},
   "source": [
    "#### <div class=\"alert alert-info\" role=\"alert\">\n",
    "<h3 class=\"alert-heading\">Questions</h3>\n",
    "    \n",
    "What is the problem here? \n",
    "\n",
    "</div>\n"
   ]
  },
  {
   "cell_type": "markdown",
   "id": "43016916",
   "metadata": {},
   "source": [
    "[Box plots](https://pandas.pydata.org/pandas-docs/stable/reference/api/pandas.DataFrame.boxplot.html) are another more compact way of describing the data. Let's focus on streamflow for a moment and create a new plot with setting `kind='box'`. \n"
   ]
  },
  {
   "cell_type": "code",
   "execution_count": 18,
   "id": "dc8b172b",
   "metadata": {},
   "outputs": [
    {
     "data": {
      "text/plain": [
       "<Axes: >"
      ]
     },
     "execution_count": 18,
     "metadata": {},
     "output_type": "execute_result"
    },
    {
     "data": {
      "image/png": "[encoded data removed]",
      "text/plain": [
       "<Figure size 640x480 with 1 Axes>"
      ]
     },
     "metadata": {},
     "output_type": "display_data"
    },
    {
     "data": {
      "image/png": "[encoded data removed]",
      "text/plain": [
       "<Figure size 640x480 with 1 Axes>"
      ]
     },
     "metadata": {},
     "output_type": "display_data"
    },
    {
     "data": {
      "image/png": "[encoded data removed]",
      "text/plain": [
       "<Figure size 640x480 with 1 Axes>"
      ]
     },
     "metadata": {},
     "output_type": "display_data"
    }
   ],
   "source": [
    "dataCombined.plot(kind='box',y='discharge',ylim=[0, 2000])\n",
    "dataCombined.plot(kind='box',y='PRCP',ylim=[0, 300])\n",
    "dataCombined.plot(kind='box',y='TMAX',ylim=[0, 100])"
   ]
  },
  {
   "cell_type": "markdown",
   "id": "474c25db",
   "metadata": {},
   "source": [
    "Before we move on to climate data, lets inspect `'PRCP'`. Unlike temperature and discharge, we don't expect rain on most days and so we have a lot of zeros in the data set, which are real data. \n",
    "\n",
    "We can use the `.loc[]` command with a condition (for example `dataCombined['PRCP'] > 0` to select only days with precipitation. \n",
    "Using the `.count()` we get the number of non-zeros. \n",
    "\n",
    "**Quick challenge: What the the change of rain on any given day? How would you do that?**"
   ]
  },
  {
   "cell_type": "code",
   "execution_count": null,
   "id": "f3c21df6",
   "metadata": {},
   "outputs": [],
   "source": [
    "condition = dataCombined['PRCP']>0\n",
    "dataCombined['PRCP'].loc[condition].count()\n",
    "\n"
   ]
  },
  {
   "cell_type": "markdown",
   "id": "7194c148",
   "metadata": {},
   "source": [
    "## Aggregating weather data to climate data\n",
    "\n",
    "Because there is a lot of variability between years, we need to aggregate our data to [climate periods](https://www.ncei.noaa.gov/products/land-based-station/us-climate-normals), typically taken to be 30-years of data.\n",
    "\n",
    "Luckily you already know how to do that using `.pivot_table`\n",
    "\n",
    "<div class=\"alert alert-warning\" role=\"warning\">\n",
    "<h3 class=\"alert-heading\">Challenge</h3>\n",
    "    \n",
    "- Use the pivot_table function to create\n",
    "    - mean monthly temperature\n",
    "    - total (sum) monthly precipitation\n",
    "    - mean monthly discharge \n",
    "- Select data from 1990 to 2020\n",
    "- Create three plots showing your results. \n",
    "</div>\n",
    "\n"
   ]
  },
  {
   "cell_type": "code",
   "execution_count": null,
   "id": "678b6b94",
   "metadata": {},
   "outputs": [],
   "source": [
    "dataCombined['year']=dataCombined.index.year\n",
    "dataCombined['month']=dataCombined.index.month\n",
    "\n",
    "# Complete the code below for the pivot tables and the plots "
   ]
  },
  {
   "cell_type": "markdown",
   "id": "0e109e07",
   "metadata": {},
   "source": [
    "<div class=\"alert alert-info\" role=\"alert\">\n",
    "<h3 class=\"alert-heading\">Questions</h3>\n",
    "    \n",
    "How do you explain these data?\n",
    "\n",
    "What do you notice about streamflow, when looking at precipitation?\n",
    "\n",
    "Do they likely influence each other\n",
    "\n",
    "</div>\n",
    "\n",
    "We can also plot these two as a scatter plot to investigate further. "
   ]
  },
  {
   "cell_type": "code",
   "execution_count": null,
   "id": "046eb91f",
   "metadata": {},
   "outputs": [],
   "source": [
    "dataCombined.plot(kind='scatter',x='PRCP',y='discharge')\n"
   ]
  },
  {
   "cell_type": "markdown",
   "id": "93f3c563",
   "metadata": {},
   "source": [
    "# Take-away/ Conclusions\n",
    "\n",
    "- Why does this matter? \n",
    "- Why do we need to know the shape of the variable distributions, when we think about climate data and climate risk? \n",
    "    - What do you think? \n",
    "\n"
   ]
  },
  {
   "cell_type": "code",
   "execution_count": null,
   "id": "15a8cfc0",
   "metadata": {},
   "outputs": [],
   "source": []
  }
 ],
 "metadata": {
  "kernelspec": {
   "display_name": "Python 3 (ipykernel)",
   "language": "python",
   "name": "python3"
  },
  "language_info": {
   "codemirror_mode": {
    "name": "ipython",
    "version": 3
   },
   "file_extension": ".py",
   "mimetype": "text/x-python",
   "name": "python",
   "nbconvert_exporter": "python",
   "pygments_lexer": "ipython3",
   "version": "3.11.5"
  }
 },
 "nbformat": 4,
 "nbformat_minor": 5
}
