{
 "cells": [
  {
   "cell_type": "markdown",
   "id": "6506d4d7",
   "metadata": {},
   "source": [
    "# Empirical/ Statistical Models: Climate Extremes "
   ]
  },
  {
   "cell_type": "markdown",
   "id": "417543d3",
   "metadata": {},
   "source": [
    "### Background\n",
    "\n",
    "We introduced empirial (or statistical) models during the lecture. \n",
    "\n",
    "One application for statistical models in climate change - ***and one of the most difficult ones*** - is to estimate the extreme values in the distribution of a climate variable (_like temperature_). \n",
    "\n",
    "If we want to estimate the probability of a let's say extreme heat from a dataset, we need to make some assumptions about the statistical distribution of or climate variable. \n",
    "\n",
    "In other words, we are applying a statistical model. \n",
    "\n",
    "Why does this matther? "
   ]
  },
  {
   "cell_type": "markdown",
   "id": "8837bf13",
   "metadata": {},
   "source": [
    "![](https://images.ctfassets.net/cxgxgstp8r5d/entry-cm_53-image/7aded67c2207744ac7cb5bf3b6144086/entry-cm_53-image.gif)\n",
    "[_Source: Climate Central - The Season of Extreme Heat_](https://www.climatecentral.org/climate-matters/the-season-of-extreme-heat)"
   ]
  },
  {
   "cell_type": "markdown",
   "id": "768a8b5b",
   "metadata": {},
   "source": [
    "In a warming world, we will encounter heat and [extreme heat](https://www.ready.gov/heat) much more frequently."
   ]
  },
  {
   "cell_type": "markdown",
   "id": "573ce19e",
   "metadata": {},
   "source": [
    "### Learning Goals\n",
    "\n",
    "**Climate**\n",
    "\n",
    "- Importance of extreme values for distaster prepardnes and infrastructure\n",
    "- Difficulty of accurately modeling extreme values of climate variables\n",
    "- Understanding definition of climate extremes using probabilities\n",
    "- Understanding flood return times\n",
    "\n",
    "**Models**\n",
    "\n",
    "- Usefulness of statistical models for climate analysis\n",
    "- Limitation of statistical models for extreme distributions and not seen values\n",
    "\n",
    "**Programming**\n",
    "\n",
    "- Using `.groupby` on a dataframe\n",
    "- Calculating _quantiles_ using `np.quantile()`\n",
    "- Estimating a normal distribution with `scipy.stats.norm.pdf()`"
   ]
  },
  {
   "cell_type": "markdown",
   "id": "23803cd2",
   "metadata": {},
   "source": [
    "## Case Study 1:Extreme Temperatures - Normal Distribution Model"
   ]
  },
  {
   "cell_type": "markdown",
   "id": "5dbc9129",
   "metadata": {},
   "source": [
    "For the first part of this analysis, we will be working with temperature data collected a [Phoenix Airport](https://www.ncei.noaa.gov/cdo-web/datasets/GHCND/stations/GHCND:USW00023183/detail) as part of NOAA's Global Historic Climatology Network. \n",
    "\n",
    "You may remember, that Phoenix set temperature records in 2023, [with 54 days with temperatures exeeding 110$^o$F](https://www.pbs.org/newshour/nation/phoenix-hit-110-degrees-on-54-days-in-2023-setting-another-heat-record)."
   ]
  },
  {
   "cell_type": "markdown",
   "id": "be755d09",
   "metadata": {},
   "source": [
    "#### Getting Started\n",
    "\n",
    "We first import `pandas` and some other stadard libaries. The we read the weather station data into a DataFrame, setting the date as an index (like always). "
   ]
  },
  {
   "cell_type": "code",
   "execution_count": 9,
   "id": "8f759f7b",
   "metadata": {},
   "outputs": [
    {
     "name": "stdout",
     "output_type": "stream",
     "text": [
      "['seaborn-whitegrid']\n"
     ]
    }
   ],
   "source": [
    "import pandas as pd\n",
    "import matplotlib.pyplot as plt\n",
    "import numpy as np\n",
    "\n",
    "# I am also setting a figure style\n",
    "# because available styles vary between versions, this is a bit complicated. Just ignore this.\n",
    "import re\n",
    "styles = plt.style.available\n",
    "style = [x for x in styles if re.search('seaborn-whitegrid', x)]\n",
    "print(style)\n",
    "plt.style.use(style)\n"
   ]
  },
  {
   "cell_type": "code",
   "execution_count": 10,
   "id": "8a25cb4a",
   "metadata": {},
   "outputs": [
    {
     "name": "stderr",
     "output_type": "stream",
     "text": [
      "C:\\Users\\gerkentx\\AppData\\Local\\Temp\\ipykernel_8352\\3683832410.py:1: DtypeWarning: Columns (16,22,26,28,32,34,38,40,44,46) have mixed types. Specify dtype option on import or set low_memory=False.\n",
      "  weather_phoenix = pd.read_csv('../data/NOAA_GHCN_USW00023183.csv',\n"
     ]
    },
    {
     "data": {
      "text/html": [
       "<div>\n",
       "<style scoped>\n",
       "    .dataframe tbody tr th:only-of-type {\n",
       "        vertical-align: middle;\n",
       "    }\n",
       "\n",
       "    .dataframe tbody tr th {\n",
       "        vertical-align: top;\n",
       "    }\n",
       "\n",
       "    .dataframe thead th {\n",
       "        text-align: right;\n",
       "    }\n",
       "</style>\n",
       "<table border=\"1\" class=\"dataframe\">\n",
       "  <thead>\n",
       "    <tr style=\"text-align: right;\">\n",
       "      <th></th>\n",
       "      <th>STATION</th>\n",
       "      <th>NAME</th>\n",
       "      <th>AWND</th>\n",
       "      <th>AWND_ATTRIBUTES</th>\n",
       "      <th>FMTM</th>\n",
       "      <th>FMTM_ATTRIBUTES</th>\n",
       "      <th>PGTM</th>\n",
       "      <th>PGTM_ATTRIBUTES</th>\n",
       "      <th>PRCP</th>\n",
       "      <th>PRCP_ATTRIBUTES</th>\n",
       "      <th>...</th>\n",
       "      <th>WSF2</th>\n",
       "      <th>WSF2_ATTRIBUTES</th>\n",
       "      <th>WSF5</th>\n",
       "      <th>WSF5_ATTRIBUTES</th>\n",
       "      <th>WSFG</th>\n",
       "      <th>WSFG_ATTRIBUTES</th>\n",
       "      <th>WSFI</th>\n",
       "      <th>WSFI_ATTRIBUTES</th>\n",
       "      <th>WSFM</th>\n",
       "      <th>WSFM_ATTRIBUTES</th>\n",
       "    </tr>\n",
       "    <tr>\n",
       "      <th>DATE</th>\n",
       "      <th></th>\n",
       "      <th></th>\n",
       "      <th></th>\n",
       "      <th></th>\n",
       "      <th></th>\n",
       "      <th></th>\n",
       "      <th></th>\n",
       "      <th></th>\n",
       "      <th></th>\n",
       "      <th></th>\n",
       "      <th></th>\n",
       "      <th></th>\n",
       "      <th></th>\n",
       "      <th></th>\n",
       "      <th></th>\n",
       "      <th></th>\n",
       "      <th></th>\n",
       "      <th></th>\n",
       "      <th></th>\n",
       "      <th></th>\n",
       "      <th></th>\n",
       "    </tr>\n",
       "  </thead>\n",
       "  <tbody>\n",
       "    <tr>\n",
       "      <th>1934-01-01</th>\n",
       "      <td>USW00023183</td>\n",
       "      <td>PHOENIX AIRPORT, AZ US</td>\n",
       "      <td>NaN</td>\n",
       "      <td>NaN</td>\n",
       "      <td>NaN</td>\n",
       "      <td>NaN</td>\n",
       "      <td>NaN</td>\n",
       "      <td>NaN</td>\n",
       "      <td>0.0</td>\n",
       "      <td>P,,6,null</td>\n",
       "      <td>...</td>\n",
       "      <td>NaN</td>\n",
       "      <td>NaN</td>\n",
       "      <td>NaN</td>\n",
       "      <td>NaN</td>\n",
       "      <td>NaN</td>\n",
       "      <td>NaN</td>\n",
       "      <td>NaN</td>\n",
       "      <td>NaN</td>\n",
       "      <td>NaN</td>\n",
       "      <td>NaN</td>\n",
       "    </tr>\n",
       "    <tr>\n",
       "      <th>1934-01-02</th>\n",
       "      <td>USW00023183</td>\n",
       "      <td>PHOENIX AIRPORT, AZ US</td>\n",
       "      <td>NaN</td>\n",
       "      <td>NaN</td>\n",
       "      <td>NaN</td>\n",
       "      <td>NaN</td>\n",
       "      <td>NaN</td>\n",
       "      <td>NaN</td>\n",
       "      <td>0.0</td>\n",
       "      <td>P,,6,null</td>\n",
       "      <td>...</td>\n",
       "      <td>NaN</td>\n",
       "      <td>NaN</td>\n",
       "      <td>NaN</td>\n",
       "      <td>NaN</td>\n",
       "      <td>NaN</td>\n",
       "      <td>NaN</td>\n",
       "      <td>NaN</td>\n",
       "      <td>NaN</td>\n",
       "      <td>NaN</td>\n",
       "      <td>NaN</td>\n",
       "    </tr>\n",
       "    <tr>\n",
       "      <th>1934-01-03</th>\n",
       "      <td>USW00023183</td>\n",
       "      <td>PHOENIX AIRPORT, AZ US</td>\n",
       "      <td>NaN</td>\n",
       "      <td>NaN</td>\n",
       "      <td>NaN</td>\n",
       "      <td>NaN</td>\n",
       "      <td>NaN</td>\n",
       "      <td>NaN</td>\n",
       "      <td>0.0</td>\n",
       "      <td>P,,6,null</td>\n",
       "      <td>...</td>\n",
       "      <td>NaN</td>\n",
       "      <td>NaN</td>\n",
       "      <td>NaN</td>\n",
       "      <td>NaN</td>\n",
       "      <td>NaN</td>\n",
       "      <td>NaN</td>\n",
       "      <td>NaN</td>\n",
       "      <td>NaN</td>\n",
       "      <td>NaN</td>\n",
       "      <td>NaN</td>\n",
       "    </tr>\n",
       "    <tr>\n",
       "      <th>1934-01-04</th>\n",
       "      <td>USW00023183</td>\n",
       "      <td>PHOENIX AIRPORT, AZ US</td>\n",
       "      <td>NaN</td>\n",
       "      <td>NaN</td>\n",
       "      <td>NaN</td>\n",
       "      <td>NaN</td>\n",
       "      <td>NaN</td>\n",
       "      <td>NaN</td>\n",
       "      <td>0.0</td>\n",
       "      <td>P,,6,null</td>\n",
       "      <td>...</td>\n",
       "      <td>NaN</td>\n",
       "      <td>NaN</td>\n",
       "      <td>NaN</td>\n",
       "      <td>NaN</td>\n",
       "      <td>NaN</td>\n",
       "      <td>NaN</td>\n",
       "      <td>NaN</td>\n",
       "      <td>NaN</td>\n",
       "      <td>NaN</td>\n",
       "      <td>NaN</td>\n",
       "    </tr>\n",
       "    <tr>\n",
       "      <th>1934-01-05</th>\n",
       "      <td>USW00023183</td>\n",
       "      <td>PHOENIX AIRPORT, AZ US</td>\n",
       "      <td>NaN</td>\n",
       "      <td>NaN</td>\n",
       "      <td>NaN</td>\n",
       "      <td>NaN</td>\n",
       "      <td>NaN</td>\n",
       "      <td>NaN</td>\n",
       "      <td>0.0</td>\n",
       "      <td>P,,6,null</td>\n",
       "      <td>...</td>\n",
       "      <td>NaN</td>\n",
       "      <td>NaN</td>\n",
       "      <td>NaN</td>\n",
       "      <td>NaN</td>\n",
       "      <td>NaN</td>\n",
       "      <td>NaN</td>\n",
       "      <td>NaN</td>\n",
       "      <td>NaN</td>\n",
       "      <td>NaN</td>\n",
       "      <td>NaN</td>\n",
       "    </tr>\n",
       "  </tbody>\n",
       "</table>\n",
       "<p>5 rows × 46 columns</p>\n",
       "</div>"
      ],
      "text/plain": [
       "                STATION                    NAME  AWND AWND_ATTRIBUTES  FMTM  \\\n",
       "DATE                                                                          \n",
       "1934-01-01  USW00023183  PHOENIX AIRPORT, AZ US   NaN             NaN   NaN   \n",
       "1934-01-02  USW00023183  PHOENIX AIRPORT, AZ US   NaN             NaN   NaN   \n",
       "1934-01-03  USW00023183  PHOENIX AIRPORT, AZ US   NaN             NaN   NaN   \n",
       "1934-01-04  USW00023183  PHOENIX AIRPORT, AZ US   NaN             NaN   NaN   \n",
       "1934-01-05  USW00023183  PHOENIX AIRPORT, AZ US   NaN             NaN   NaN   \n",
       "\n",
       "           FMTM_ATTRIBUTES  PGTM PGTM_ATTRIBUTES  PRCP PRCP_ATTRIBUTES  ...  \\\n",
       "DATE                                                                    ...   \n",
       "1934-01-01             NaN   NaN             NaN   0.0       P,,6,null  ...   \n",
       "1934-01-02             NaN   NaN             NaN   0.0       P,,6,null  ...   \n",
       "1934-01-03             NaN   NaN             NaN   0.0       P,,6,null  ...   \n",
       "1934-01-04             NaN   NaN             NaN   0.0       P,,6,null  ...   \n",
       "1934-01-05             NaN   NaN             NaN   0.0       P,,6,null  ...   \n",
       "\n",
       "            WSF2 WSF2_ATTRIBUTES  WSF5 WSF5_ATTRIBUTES  WSFG WSFG_ATTRIBUTES  \\\n",
       "DATE                                                                           \n",
       "1934-01-01   NaN             NaN   NaN             NaN   NaN             NaN   \n",
       "1934-01-02   NaN             NaN   NaN             NaN   NaN             NaN   \n",
       "1934-01-03   NaN             NaN   NaN             NaN   NaN             NaN   \n",
       "1934-01-04   NaN             NaN   NaN             NaN   NaN             NaN   \n",
       "1934-01-05   NaN             NaN   NaN             NaN   NaN             NaN   \n",
       "\n",
       "            WSFI WSFI_ATTRIBUTES  WSFM WSFM_ATTRIBUTES  \n",
       "DATE                                                    \n",
       "1934-01-01   NaN             NaN   NaN             NaN  \n",
       "1934-01-02   NaN             NaN   NaN             NaN  \n",
       "1934-01-03   NaN             NaN   NaN             NaN  \n",
       "1934-01-04   NaN             NaN   NaN             NaN  \n",
       "1934-01-05   NaN             NaN   NaN             NaN  \n",
       "\n",
       "[5 rows x 46 columns]"
      ]
     },
     "execution_count": 10,
     "metadata": {},
     "output_type": "execute_result"
    }
   ],
   "source": [
    "weather_phoenix = pd.read_csv('../data/NOAA_GHCN_USW00023183.csv',\n",
    "                             parse_dates=['DATE'],\n",
    "                             index_col = ['DATE'])\n",
    "weather_phoenix.head()"
   ]
  },
  {
   "cell_type": "markdown",
   "id": "8bf72dfa",
   "metadata": {},
   "source": [
    "To make our analyis on extreme heat a bit easier, we focus on summer months only. In meteorology, we define June, July, and August as summer months, which also coincide with highest temperatures. "
   ]
  },
  {
   "cell_type": "markdown",
   "id": "11f8a2aa",
   "metadata": {},
   "source": [
    "To do so, we create a new column `['Month']` in our DataFrame with the month. We have done this before and use the fact that we can extract the month from the date like this: "
   ]
  },
  {
   "cell_type": "code",
   "execution_count": 11,
   "id": "21cf85e1",
   "metadata": {},
   "outputs": [],
   "source": [
    "weather_phoenix['Month']=weather_phoenix.index.month"
   ]
  },
  {
   "cell_type": "markdown",
   "id": "24ca55ba",
   "metadata": {},
   "source": [
    "After that, we can simply select all data, for which the month is either 6,7 or 8. "
   ]
  },
  {
   "cell_type": "code",
   "execution_count": 12,
   "id": "248ec63f",
   "metadata": {},
   "outputs": [
    {
     "data": {
      "text/html": [
       "<div>\n",
       "<style scoped>\n",
       "    .dataframe tbody tr th:only-of-type {\n",
       "        vertical-align: middle;\n",
       "    }\n",
       "\n",
       "    .dataframe tbody tr th {\n",
       "        vertical-align: top;\n",
       "    }\n",
       "\n",
       "    .dataframe thead th {\n",
       "        text-align: right;\n",
       "    }\n",
       "</style>\n",
       "<table border=\"1\" class=\"dataframe\">\n",
       "  <thead>\n",
       "    <tr style=\"text-align: right;\">\n",
       "      <th></th>\n",
       "      <th>STATION</th>\n",
       "      <th>NAME</th>\n",
       "      <th>AWND</th>\n",
       "      <th>AWND_ATTRIBUTES</th>\n",
       "      <th>FMTM</th>\n",
       "      <th>FMTM_ATTRIBUTES</th>\n",
       "      <th>PGTM</th>\n",
       "      <th>PGTM_ATTRIBUTES</th>\n",
       "      <th>PRCP</th>\n",
       "      <th>PRCP_ATTRIBUTES</th>\n",
       "      <th>...</th>\n",
       "      <th>WSF2_ATTRIBUTES</th>\n",
       "      <th>WSF5</th>\n",
       "      <th>WSF5_ATTRIBUTES</th>\n",
       "      <th>WSFG</th>\n",
       "      <th>WSFG_ATTRIBUTES</th>\n",
       "      <th>WSFI</th>\n",
       "      <th>WSFI_ATTRIBUTES</th>\n",
       "      <th>WSFM</th>\n",
       "      <th>WSFM_ATTRIBUTES</th>\n",
       "      <th>Month</th>\n",
       "    </tr>\n",
       "    <tr>\n",
       "      <th>DATE</th>\n",
       "      <th></th>\n",
       "      <th></th>\n",
       "      <th></th>\n",
       "      <th></th>\n",
       "      <th></th>\n",
       "      <th></th>\n",
       "      <th></th>\n",
       "      <th></th>\n",
       "      <th></th>\n",
       "      <th></th>\n",
       "      <th></th>\n",
       "      <th></th>\n",
       "      <th></th>\n",
       "      <th></th>\n",
       "      <th></th>\n",
       "      <th></th>\n",
       "      <th></th>\n",
       "      <th></th>\n",
       "      <th></th>\n",
       "      <th></th>\n",
       "      <th></th>\n",
       "    </tr>\n",
       "  </thead>\n",
       "  <tbody>\n",
       "    <tr>\n",
       "      <th>1934-06-01</th>\n",
       "      <td>USW00023183</td>\n",
       "      <td>PHOENIX AIRPORT, AZ US</td>\n",
       "      <td>NaN</td>\n",
       "      <td>NaN</td>\n",
       "      <td>NaN</td>\n",
       "      <td>NaN</td>\n",
       "      <td>NaN</td>\n",
       "      <td>NaN</td>\n",
       "      <td>0.0</td>\n",
       "      <td>P,,6,null</td>\n",
       "      <td>...</td>\n",
       "      <td>NaN</td>\n",
       "      <td>NaN</td>\n",
       "      <td>NaN</td>\n",
       "      <td>NaN</td>\n",
       "      <td>NaN</td>\n",
       "      <td>NaN</td>\n",
       "      <td>NaN</td>\n",
       "      <td>NaN</td>\n",
       "      <td>NaN</td>\n",
       "      <td>6</td>\n",
       "    </tr>\n",
       "    <tr>\n",
       "      <th>1934-06-02</th>\n",
       "      <td>USW00023183</td>\n",
       "      <td>PHOENIX AIRPORT, AZ US</td>\n",
       "      <td>NaN</td>\n",
       "      <td>NaN</td>\n",
       "      <td>NaN</td>\n",
       "      <td>NaN</td>\n",
       "      <td>NaN</td>\n",
       "      <td>NaN</td>\n",
       "      <td>0.0</td>\n",
       "      <td>P,,6,null</td>\n",
       "      <td>...</td>\n",
       "      <td>NaN</td>\n",
       "      <td>NaN</td>\n",
       "      <td>NaN</td>\n",
       "      <td>NaN</td>\n",
       "      <td>NaN</td>\n",
       "      <td>NaN</td>\n",
       "      <td>NaN</td>\n",
       "      <td>NaN</td>\n",
       "      <td>NaN</td>\n",
       "      <td>6</td>\n",
       "    </tr>\n",
       "    <tr>\n",
       "      <th>1934-06-03</th>\n",
       "      <td>USW00023183</td>\n",
       "      <td>PHOENIX AIRPORT, AZ US</td>\n",
       "      <td>NaN</td>\n",
       "      <td>NaN</td>\n",
       "      <td>NaN</td>\n",
       "      <td>NaN</td>\n",
       "      <td>NaN</td>\n",
       "      <td>NaN</td>\n",
       "      <td>0.0</td>\n",
       "      <td>P,,6,null</td>\n",
       "      <td>...</td>\n",
       "      <td>NaN</td>\n",
       "      <td>NaN</td>\n",
       "      <td>NaN</td>\n",
       "      <td>NaN</td>\n",
       "      <td>NaN</td>\n",
       "      <td>NaN</td>\n",
       "      <td>NaN</td>\n",
       "      <td>NaN</td>\n",
       "      <td>NaN</td>\n",
       "      <td>6</td>\n",
       "    </tr>\n",
       "    <tr>\n",
       "      <th>1934-06-04</th>\n",
       "      <td>USW00023183</td>\n",
       "      <td>PHOENIX AIRPORT, AZ US</td>\n",
       "      <td>NaN</td>\n",
       "      <td>NaN</td>\n",
       "      <td>NaN</td>\n",
       "      <td>NaN</td>\n",
       "      <td>NaN</td>\n",
       "      <td>NaN</td>\n",
       "      <td>0.0</td>\n",
       "      <td>P,,6,null</td>\n",
       "      <td>...</td>\n",
       "      <td>NaN</td>\n",
       "      <td>NaN</td>\n",
       "      <td>NaN</td>\n",
       "      <td>NaN</td>\n",
       "      <td>NaN</td>\n",
       "      <td>NaN</td>\n",
       "      <td>NaN</td>\n",
       "      <td>NaN</td>\n",
       "      <td>NaN</td>\n",
       "      <td>6</td>\n",
       "    </tr>\n",
       "    <tr>\n",
       "      <th>1934-06-05</th>\n",
       "      <td>USW00023183</td>\n",
       "      <td>PHOENIX AIRPORT, AZ US</td>\n",
       "      <td>NaN</td>\n",
       "      <td>NaN</td>\n",
       "      <td>NaN</td>\n",
       "      <td>NaN</td>\n",
       "      <td>NaN</td>\n",
       "      <td>NaN</td>\n",
       "      <td>0.0</td>\n",
       "      <td>P,,6,null</td>\n",
       "      <td>...</td>\n",
       "      <td>NaN</td>\n",
       "      <td>NaN</td>\n",
       "      <td>NaN</td>\n",
       "      <td>NaN</td>\n",
       "      <td>NaN</td>\n",
       "      <td>NaN</td>\n",
       "      <td>NaN</td>\n",
       "      <td>NaN</td>\n",
       "      <td>NaN</td>\n",
       "      <td>6</td>\n",
       "    </tr>\n",
       "  </tbody>\n",
       "</table>\n",
       "<p>5 rows × 47 columns</p>\n",
       "</div>"
      ],
      "text/plain": [
       "                STATION                    NAME  AWND AWND_ATTRIBUTES  FMTM  \\\n",
       "DATE                                                                          \n",
       "1934-06-01  USW00023183  PHOENIX AIRPORT, AZ US   NaN             NaN   NaN   \n",
       "1934-06-02  USW00023183  PHOENIX AIRPORT, AZ US   NaN             NaN   NaN   \n",
       "1934-06-03  USW00023183  PHOENIX AIRPORT, AZ US   NaN             NaN   NaN   \n",
       "1934-06-04  USW00023183  PHOENIX AIRPORT, AZ US   NaN             NaN   NaN   \n",
       "1934-06-05  USW00023183  PHOENIX AIRPORT, AZ US   NaN             NaN   NaN   \n",
       "\n",
       "           FMTM_ATTRIBUTES  PGTM PGTM_ATTRIBUTES  PRCP PRCP_ATTRIBUTES  ...  \\\n",
       "DATE                                                                    ...   \n",
       "1934-06-01             NaN   NaN             NaN   0.0       P,,6,null  ...   \n",
       "1934-06-02             NaN   NaN             NaN   0.0       P,,6,null  ...   \n",
       "1934-06-03             NaN   NaN             NaN   0.0       P,,6,null  ...   \n",
       "1934-06-04             NaN   NaN             NaN   0.0       P,,6,null  ...   \n",
       "1934-06-05             NaN   NaN             NaN   0.0       P,,6,null  ...   \n",
       "\n",
       "            WSF2_ATTRIBUTES WSF5  WSF5_ATTRIBUTES WSFG  WSFG_ATTRIBUTES WSFI  \\\n",
       "DATE                                                                           \n",
       "1934-06-01              NaN  NaN              NaN  NaN              NaN  NaN   \n",
       "1934-06-02              NaN  NaN              NaN  NaN              NaN  NaN   \n",
       "1934-06-03              NaN  NaN              NaN  NaN              NaN  NaN   \n",
       "1934-06-04              NaN  NaN              NaN  NaN              NaN  NaN   \n",
       "1934-06-05              NaN  NaN              NaN  NaN              NaN  NaN   \n",
       "\n",
       "            WSFI_ATTRIBUTES WSFM  WSFM_ATTRIBUTES Month  \n",
       "DATE                                                     \n",
       "1934-06-01              NaN  NaN              NaN     6  \n",
       "1934-06-02              NaN  NaN              NaN     6  \n",
       "1934-06-03              NaN  NaN              NaN     6  \n",
       "1934-06-04              NaN  NaN              NaN     6  \n",
       "1934-06-05              NaN  NaN              NaN     6  \n",
       "\n",
       "[5 rows x 47 columns]"
      ]
     },
     "execution_count": 12,
     "metadata": {},
     "output_type": "execute_result"
    }
   ],
   "source": [
    "weather_phoenix=weather_phoenix.loc[weather_phoenix['Month'].isin([6,7,8])]\n",
    "weather_phoenix.head()"
   ]
  },
  {
   "cell_type": "markdown",
   "id": "9af330a0",
   "metadata": {},
   "source": [
    "There are quite a few columns in the dataframe, let's only concern ourselves with daily _minimum_ and _maximum_ temperatures. "
   ]
  },
  {
   "cell_type": "code",
   "execution_count": 13,
   "id": "7abf8971",
   "metadata": {},
   "outputs": [],
   "source": [
    "T_phoenix = weather_phoenix[['Month','TMIN','TMAX']]"
   ]
  },
  {
   "cell_type": "markdown",
   "id": "651236bd",
   "metadata": {},
   "source": [
    "We can look at the summary statistics to see, that the average maximum summer temperature in Phoenix is ~104 F. This is pretty hot!"
   ]
  },
  {
   "cell_type": "code",
   "execution_count": 14,
   "id": "192e876d",
   "metadata": {},
   "outputs": [
    {
     "name": "stdout",
     "output_type": "stream",
     "text": [
      "(7759, 3)\n"
     ]
    },
    {
     "data": {
      "text/html": [
       "<div>\n",
       "<style scoped>\n",
       "    .dataframe tbody tr th:only-of-type {\n",
       "        vertical-align: middle;\n",
       "    }\n",
       "\n",
       "    .dataframe tbody tr th {\n",
       "        vertical-align: top;\n",
       "    }\n",
       "\n",
       "    .dataframe thead th {\n",
       "        text-align: right;\n",
       "    }\n",
       "</style>\n",
       "<table border=\"1\" class=\"dataframe\">\n",
       "  <thead>\n",
       "    <tr style=\"text-align: right;\">\n",
       "      <th></th>\n",
       "      <th>Month</th>\n",
       "      <th>TMIN</th>\n",
       "      <th>TMAX</th>\n",
       "    </tr>\n",
       "  </thead>\n",
       "  <tbody>\n",
       "    <tr>\n",
       "      <th>count</th>\n",
       "      <td>7759.000000</td>\n",
       "      <td>7758.000000</td>\n",
       "      <td>7758.000000</td>\n",
       "    </tr>\n",
       "    <tr>\n",
       "      <th>mean</th>\n",
       "      <td>7.006960</td>\n",
       "      <td>78.432586</td>\n",
       "      <td>104.398814</td>\n",
       "    </tr>\n",
       "    <tr>\n",
       "      <th>std</th>\n",
       "      <td>0.815045</td>\n",
       "      <td>7.273761</td>\n",
       "      <td>5.742510</td>\n",
       "    </tr>\n",
       "    <tr>\n",
       "      <th>min</th>\n",
       "      <td>6.000000</td>\n",
       "      <td>50.000000</td>\n",
       "      <td>73.000000</td>\n",
       "    </tr>\n",
       "    <tr>\n",
       "      <th>25%</th>\n",
       "      <td>6.000000</td>\n",
       "      <td>74.000000</td>\n",
       "      <td>101.000000</td>\n",
       "    </tr>\n",
       "    <tr>\n",
       "      <th>50%</th>\n",
       "      <td>7.000000</td>\n",
       "      <td>79.000000</td>\n",
       "      <td>105.000000</td>\n",
       "    </tr>\n",
       "    <tr>\n",
       "      <th>75%</th>\n",
       "      <td>8.000000</td>\n",
       "      <td>84.000000</td>\n",
       "      <td>108.000000</td>\n",
       "    </tr>\n",
       "    <tr>\n",
       "      <th>max</th>\n",
       "      <td>8.000000</td>\n",
       "      <td>97.000000</td>\n",
       "      <td>122.000000</td>\n",
       "    </tr>\n",
       "  </tbody>\n",
       "</table>\n",
       "</div>"
      ],
      "text/plain": [
       "             Month         TMIN         TMAX\n",
       "count  7759.000000  7758.000000  7758.000000\n",
       "mean      7.006960    78.432586   104.398814\n",
       "std       0.815045     7.273761     5.742510\n",
       "min       6.000000    50.000000    73.000000\n",
       "25%       6.000000    74.000000   101.000000\n",
       "50%       7.000000    79.000000   105.000000\n",
       "75%       8.000000    84.000000   108.000000\n",
       "max       8.000000    97.000000   122.000000"
      ]
     },
     "execution_count": 14,
     "metadata": {},
     "output_type": "execute_result"
    }
   ],
   "source": [
    "print(T_phoenix.shape)\n",
    "T_phoenix.describe()"
   ]
  },
  {
   "cell_type": "markdown",
   "id": "e02abfb8",
   "metadata": {},
   "source": [
    "Another thing we notice, is that ther are 7759 entries (rows) in the dataframe, but only 7758 values for `TMIN` and `TMAX`. This means we have one missing value, which we should eliminate from the analysis. \n",
    "\n",
    "We can do this using the `.dropna()` command, which will eliminate rows with missing (`nan`) values. "
   ]
  },
  {
   "cell_type": "code",
   "execution_count": 15,
   "id": "0fa880c0",
   "metadata": {},
   "outputs": [],
   "source": [
    "T_phoenix=T_phoenix.dropna()"
   ]
  },
  {
   "cell_type": "markdown",
   "id": "5b4b3a08",
   "metadata": {},
   "source": [
    "We expect changing tempertures due to global warming. Because there is a lot of variability in climate, we always look at 30-year intervals analyse climate change. These are called [climate normals](https://www.ncei.noaa.gov/products/land-based-station/us-climate-normals). The current one is from 1990 to 2020. \n",
    "\n",
    "This means the record tempertures in Phoenix last summer are not yet part of the official current climate. \n",
    "\n",
    "Let's select the current climate normal (1990-2020) and the first 3 complete decades in the dataset (1940-1970) and assign them to new dataframes. "
   ]
  },
  {
   "cell_type": "code",
   "execution_count": 16,
   "id": "37ed9b56",
   "metadata": {},
   "outputs": [],
   "source": [
    "T_phoenix_current = weather_phoenix[['TMIN','TMAX']].loc[\"1990\":\"2020\"]\n",
    "T_phoenix_40to70 = weather_phoenix[['TMIN','TMAX']].loc[\"1940\":\"1970\"]"
   ]
  },
  {
   "cell_type": "markdown",
   "id": "b8ef2bb3",
   "metadata": {},
   "source": [
    "We can then plot histograms, to check whether there is any apparent warming. "
   ]
  },
  {
   "cell_type": "code",
   "execution_count": 17,
   "id": "4f801536",
   "metadata": {},
   "outputs": [
    {
     "data": {
      "text/plain": [
       "Text(0.5, 0, 'Max T ($^o$F)')"
      ]
     },
     "execution_count": 17,
     "metadata": {},
     "output_type": "execute_result"
    },
    {
     "data": {
      "image/png": "[encoded data removed]",
      "text/plain": [
       "<Figure size 1100x600 with 1 Axes>"
      ]
     },
     "metadata": {},
     "output_type": "display_data"
    }
   ],
   "source": [
    "fig, ax = plt.subplots(figsize=(11, 6))\n",
    "\n",
    "T_phoenix_40to70.plot(kind='hist',y='TMAX', bins = 40,ax=ax,alpha=0.5, label = '1940-1970')\n",
    "T_phoenix_current.plot(kind='hist',y='TMAX', bins = 40,ax=ax,alpha=0.5, label = 'current', fontsize = 15)\n",
    "\n",
    "ax.set_ylabel('Frequency', fontsize = 16)\n",
    "ax.set_xlabel('Max T ($^o$F)',fontsize = 16)\n",
    "\n"
   ]
  },
  {
   "cell_type": "markdown",
   "id": "28bf2362",
   "metadata": {},
   "source": [
    "As we might expect, maximum temperatures seem to have shifted upwards. It looks as if the complete distribution has shifted to the right. \n",
    "\n",
    "We can make this analysis a bit more quantitative, by looking at the [quantiles](https://en.wikipedia.org/wiki/Quantile) of the maximum temperature distribution.\n",
    "\n",
    "We can calculate these easily, using numpy's `.quantile()` function.\n",
    "\n",
    "We then create a quick scatter plot. "
   ]
  },
  {
   "cell_type": "code",
   "execution_count": 18,
   "id": "2b1aec03",
   "metadata": {},
   "outputs": [
    {
     "name": "stdout",
     "output_type": "stream",
     "text": [
      "[ 87.  95. 100. 104. 107. 110. 111. 114.]\n",
      "[ 89.  98. 102. 106. 109. 112. 113. 116.]\n"
     ]
    },
    {
     "data": {
      "text/plain": [
       "Text(0.5, 0, 'Quantiles Current')"
      ]
     },
     "execution_count": 18,
     "metadata": {},
     "output_type": "execute_result"
    },
    {
     "data": {
      "image/png": "[encoded data removed]",
      "text/plain": [
       "<Figure size 640x480 with 1 Axes>"
      ]
     },
     "metadata": {},
     "output_type": "display_data"
    }
   ],
   "source": [
    "quantiles = [0.01,0.10,0.25,0.5,0.75,0.9,0.95,0.99]\n",
    "quantiles_40_70=np.quantile(T_phoenix_40to70['TMAX'],quantiles)\n",
    "quantiles_current=np.quantile(T_phoenix_current['TMAX'],quantiles)\n",
    "\n",
    "print(quantiles_40_70)\n",
    "print(quantiles_current)\n",
    "\n",
    "fig, ax = plt.subplots()\n",
    "plt.scatter(quantiles_40_70,quantiles_current)\n",
    "ax.set_xlabel('Quantiles 1940-1970')\n",
    "ax.set_xlabel('Quantiles Current')"
   ]
  },
  {
   "cell_type": "markdown",
   "id": "83247648",
   "metadata": {},
   "source": [
    "From the plot above (and the calculated quantiles), we see that the entire distribution has shifted by 2 $^o$F (Note: the dataset is rounded to whole numbers).\n",
    "\n",
    "This change is plausible as [Arizona as a whole has warmed about 2 $^o$F in the last 100 years](https://19january2017snapshot.epa.gov/sites/production/files/2016-09/documents/climate-change-az.pdf)."
   ]
  },
  {
   "cell_type": "markdown",
   "id": "914f8eb4",
   "metadata": {},
   "source": [
    "### A statistical model for the temperature distribution\n",
    "\n",
    "For the remainder of the analysis, we will focus on the current climate period. \n",
    "\n",
    "We will fist a statistical model to the observed data and then compare the model derived values to the observations. \n",
    "\n",
    "Let's first plot the distribution again. \n",
    "\n",
    "Instead of plotting a normal histogram, which gives the counts on the `y-axis`, we can use the `density = True` parameter, to translate this into probabilities, for each temperature. "
   ]
  },
  {
   "cell_type": "code",
   "execution_count": 19,
   "id": "d6e904df",
   "metadata": {},
   "outputs": [
    {
     "data": {
      "text/plain": [
       "Text(0.5, 0, 'Max T ($^o$F)')"
      ]
     },
     "execution_count": 19,
     "metadata": {},
     "output_type": "execute_result"
    },
    {
     "data": {
      "image/png": "[encoded data removed]",
      "text/plain": [
       "<Figure size 640x480 with 1 Axes>"
      ]
     },
     "metadata": {},
     "output_type": "display_data"
    }
   ],
   "source": [
    "fig, ax = plt.subplots()\n",
    "T_phoenix_current.plot(kind='hist',y='TMAX', bins = 40, density=True, ax=ax)\n",
    "ax.set_xlabel('Max T ($^o$F)')"
   ]
  },
  {
   "cell_type": "markdown",
   "id": "3577bad9",
   "metadata": {},
   "source": [
    "For lack of a better understanding of our dataset, we assume that `TMAX` is normally distributed (i.e. follows a bell-curve). \n",
    "\n",
    "A normal distribution can be fully described using its _mean_ and _standard deviation_. \n",
    "\n",
    "We can directly extract them from our dataset using the `.mean()`,`.std()` functions. We also need the `.min()`, `.max()` for later. "
   ]
  },
  {
   "cell_type": "code",
   "execution_count": 20,
   "id": "032eb845",
   "metadata": {},
   "outputs": [
    {
     "name": "stdout",
     "output_type": "stream",
     "text": [
      "Mean:  105.33309957924264 Std:  5.625814735796146\n"
     ]
    }
   ],
   "source": [
    "xmin = T_phoenix_current['TMAX'].min() \n",
    "xmax = T_phoenix_current['TMAX'].max()\n",
    "mean = T_phoenix_current['TMAX'].mean()\n",
    "std = T_phoenix_current['TMAX'].std ()\n",
    "\n",
    "print('Mean: ', mean, 'Std: ', std)"
   ]
  },
  {
   "cell_type": "markdown",
   "id": "dac1e32f",
   "metadata": {},
   "source": [
    "Using the `norm` module from the `scipy.stats` package, we can then get the corresponding Normal-Distribution. To facilitate plotting, we calculate the probabilities for 100 values between the minimum and maximum values for `TMAX`. \n",
    "\n",
    "And plot the normal distribution over the observed frequency distribution. "
   ]
  },
  {
   "cell_type": "code",
   "execution_count": 21,
   "id": "d7b6aeba",
   "metadata": {},
   "outputs": [
    {
     "data": {
      "image/png": "[encoded data removed]",
      "text/plain": [
       "<Figure size 640x480 with 1 Axes>"
      ]
     },
     "metadata": {},
     "output_type": "display_data"
    }
   ],
   "source": [
    "from scipy.stats import norm\n",
    "x = np.linspace(xmin, xmax, 100)\n",
    "y = norm.pdf(x, mean, std)\n",
    "\n",
    "\n",
    "fig, ax = plt.subplots()\n",
    "T_phoenix_current.plot(kind='hist',y='TMAX', bins = 40, density=True, ax=ax)\n",
    "\n",
    "plt.plot(x,y)\n",
    "ax.set_xlabel('Max T ($^o$F)')\n",
    "plt.show()\n"
   ]
  },
  {
   "cell_type": "markdown",
   "id": "15bc0216",
   "metadata": {},
   "source": [
    "Overall, this looks plausible."
   ]
  },
  {
   "cell_type": "markdown",
   "id": "75478b6c",
   "metadata": {},
   "source": [
    "### Looking at the heat extremes\n",
    "\n",
    "Now let's look at the extreme values. \n",
    "\n",
    "We can compare the 99th-percentile of heat from observations to the normally distributed model. "
   ]
  },
  {
   "cell_type": "code",
   "execution_count": 22,
   "id": "64e08bc4",
   "metadata": {},
   "outputs": [
    {
     "name": "stdout",
     "output_type": "stream",
     "text": [
      "T Obs (99th percentile): 116.0\n",
      "T Model (99th percentile): 118.42070172960965\n"
     ]
    }
   ],
   "source": [
    "print('T Obs (99th percentile):', np.quantile(T_phoenix_current['TMAX'],.99))\n",
    "print('T Model (99th percentile):', norm.ppf(0.99, loc=mean, scale=std))"
   ]
  },
  {
   "cell_type": "markdown",
   "id": "0a6a4a68",
   "metadata": {},
   "source": [
    "We can see that the model actually overestimates extreme temperatures at the 99th percentile by more than 2$^o$F. \n",
    "\n",
    "Let's investigate this more thoroughly, by looking at the observed and calculated probabilities for several values of `TMAX`. \n",
    "\n",
    "We select temperatures from 100 to 120 F: `temperatures = [100,105,110,115,120]`"
   ]
  },
  {
   "cell_type": "code",
   "execution_count": 23,
   "id": "08dbdfa6",
   "metadata": {},
   "outputs": [
    {
     "data": {
      "text/html": [
       "<div>\n",
       "<style scoped>\n",
       "    .dataframe tbody tr th:only-of-type {\n",
       "        vertical-align: middle;\n",
       "    }\n",
       "\n",
       "    .dataframe tbody tr th {\n",
       "        vertical-align: top;\n",
       "    }\n",
       "\n",
       "    .dataframe thead th {\n",
       "        text-align: right;\n",
       "    }\n",
       "</style>\n",
       "<table border=\"1\" class=\"dataframe\">\n",
       "  <thead>\n",
       "    <tr style=\"text-align: right;\">\n",
       "      <th></th>\n",
       "      <th>Temperature</th>\n",
       "    </tr>\n",
       "  </thead>\n",
       "  <tbody>\n",
       "    <tr>\n",
       "      <th>0</th>\n",
       "      <td>100</td>\n",
       "    </tr>\n",
       "    <tr>\n",
       "      <th>1</th>\n",
       "      <td>105</td>\n",
       "    </tr>\n",
       "    <tr>\n",
       "      <th>2</th>\n",
       "      <td>110</td>\n",
       "    </tr>\n",
       "    <tr>\n",
       "      <th>3</th>\n",
       "      <td>115</td>\n",
       "    </tr>\n",
       "    <tr>\n",
       "      <th>4</th>\n",
       "      <td>120</td>\n",
       "    </tr>\n",
       "  </tbody>\n",
       "</table>\n",
       "</div>"
      ],
      "text/plain": [
       "   Temperature\n",
       "0          100\n",
       "1          105\n",
       "2          110\n",
       "3          115\n",
       "4          120"
      ]
     },
     "execution_count": 23,
     "metadata": {},
     "output_type": "execute_result"
    }
   ],
   "source": [
    "df = pd.DataFrame()\n",
    "temperatures = [100,105,110,115,120]\n",
    "df['Temperature'] = temperatures\n",
    "df"
   ]
  },
  {
   "cell_type": "markdown",
   "id": "809dc94a",
   "metadata": {},
   "source": [
    "And add the theoretical probabilities for them. "
   ]
  },
  {
   "cell_type": "code",
   "execution_count": 24,
   "id": "71820f63",
   "metadata": {},
   "outputs": [
    {
     "data": {
      "text/html": [
       "<div>\n",
       "<style scoped>\n",
       "    .dataframe tbody tr th:only-of-type {\n",
       "        vertical-align: middle;\n",
       "    }\n",
       "\n",
       "    .dataframe tbody tr th {\n",
       "        vertical-align: top;\n",
       "    }\n",
       "\n",
       "    .dataframe thead th {\n",
       "        text-align: right;\n",
       "    }\n",
       "</style>\n",
       "<table border=\"1\" class=\"dataframe\">\n",
       "  <thead>\n",
       "    <tr style=\"text-align: right;\">\n",
       "      <th></th>\n",
       "      <th>Temperature</th>\n",
       "      <th>Pct_norm</th>\n",
       "    </tr>\n",
       "  </thead>\n",
       "  <tbody>\n",
       "    <tr>\n",
       "      <th>0</th>\n",
       "      <td>100</td>\n",
       "      <td>82.842745</td>\n",
       "    </tr>\n",
       "    <tr>\n",
       "      <th>1</th>\n",
       "      <td>105</td>\n",
       "      <td>52.360723</td>\n",
       "    </tr>\n",
       "    <tr>\n",
       "      <th>2</th>\n",
       "      <td>110</td>\n",
       "      <td>20.339634</td>\n",
       "    </tr>\n",
       "    <tr>\n",
       "      <th>3</th>\n",
       "      <td>115</td>\n",
       "      <td>4.286993</td>\n",
       "    </tr>\n",
       "    <tr>\n",
       "      <th>4</th>\n",
       "      <td>120</td>\n",
       "      <td>0.456602</td>\n",
       "    </tr>\n",
       "  </tbody>\n",
       "</table>\n",
       "</div>"
      ],
      "text/plain": [
       "   Temperature   Pct_norm\n",
       "0          100  82.842745\n",
       "1          105  52.360723\n",
       "2          110  20.339634\n",
       "3          115   4.286993\n",
       "4          120   0.456602"
      ]
     },
     "execution_count": 24,
     "metadata": {},
     "output_type": "execute_result"
    }
   ],
   "source": [
    "df['Pct_norm']=(1-norm.cdf(temperatures, loc=mean, scale=std))*100\n",
    "df"
   ]
  },
  {
   "cell_type": "markdown",
   "id": "0e2b36a8",
   "metadata": {},
   "source": [
    "And not the observed probabilities:"
   ]
  },
  {
   "cell_type": "code",
   "execution_count": 27,
   "id": "7b189355",
   "metadata": {},
   "outputs": [
    {
     "data": {
      "text/html": [
       "<div>\n",
       "<style scoped>\n",
       "    .dataframe tbody tr th:only-of-type {\n",
       "        vertical-align: middle;\n",
       "    }\n",
       "\n",
       "    .dataframe tbody tr th {\n",
       "        vertical-align: top;\n",
       "    }\n",
       "\n",
       "    .dataframe thead th {\n",
       "        text-align: right;\n",
       "    }\n",
       "</style>\n",
       "<table border=\"1\" class=\"dataframe\">\n",
       "  <thead>\n",
       "    <tr style=\"text-align: right;\">\n",
       "      <th></th>\n",
       "      <th>Temperature</th>\n",
       "      <th>Pct_norm</th>\n",
       "      <th>Pct_obs</th>\n",
       "    </tr>\n",
       "  </thead>\n",
       "  <tbody>\n",
       "    <tr>\n",
       "      <th>0</th>\n",
       "      <td>100</td>\n",
       "      <td>82.842745</td>\n",
       "      <td>85.203366</td>\n",
       "    </tr>\n",
       "    <tr>\n",
       "      <th>1</th>\n",
       "      <td>105</td>\n",
       "      <td>52.360723</td>\n",
       "      <td>58.537868</td>\n",
       "    </tr>\n",
       "    <tr>\n",
       "      <th>2</th>\n",
       "      <td>110</td>\n",
       "      <td>20.339634</td>\n",
       "      <td>18.548387</td>\n",
       "    </tr>\n",
       "    <tr>\n",
       "      <th>3</th>\n",
       "      <td>115</td>\n",
       "      <td>4.286993</td>\n",
       "      <td>1.998597</td>\n",
       "    </tr>\n",
       "    <tr>\n",
       "      <th>4</th>\n",
       "      <td>120</td>\n",
       "      <td>0.456602</td>\n",
       "      <td>0.070126</td>\n",
       "    </tr>\n",
       "  </tbody>\n",
       "</table>\n",
       "</div>"
      ],
      "text/plain": [
       "   Temperature   Pct_norm    Pct_obs\n",
       "0          100  82.842745  85.203366\n",
       "1          105  52.360723  58.537868\n",
       "2          110  20.339634  18.548387\n",
       "3          115   4.286993   1.998597\n",
       "4          120   0.456602   0.070126"
      ]
     },
     "execution_count": 27,
     "metadata": {},
     "output_type": "execute_result"
    }
   ],
   "source": [
    "from scipy.stats import percentileofscore\n",
    "# percentile of score does exactly the reverse of calculating the percentil of an observation. \n",
    "# We give it a temperature and it returns the correct percentile. \n",
    "\n",
    "pct_obs =[]\n",
    "for temp in temperatures:\n",
    "    pct_obs.append(100-percentileofscore(T_phoenix_current['TMAX'],temp))\n",
    "\n",
    "df['Pct_obs']=(pct_obs)\n",
    "df\n"
   ]
  },
  {
   "cell_type": "markdown",
   "id": "32289b31",
   "metadata": {},
   "source": [
    "Finally, we add the ratio of theoretical and observed probabilites. "
   ]
  },
  {
   "cell_type": "code",
   "execution_count": 28,
   "id": "5453cc61",
   "metadata": {},
   "outputs": [
    {
     "data": {
      "text/html": [
       "<div>\n",
       "<style scoped>\n",
       "    .dataframe tbody tr th:only-of-type {\n",
       "        vertical-align: middle;\n",
       "    }\n",
       "\n",
       "    .dataframe tbody tr th {\n",
       "        vertical-align: top;\n",
       "    }\n",
       "\n",
       "    .dataframe thead th {\n",
       "        text-align: right;\n",
       "    }\n",
       "</style>\n",
       "<table border=\"1\" class=\"dataframe\">\n",
       "  <thead>\n",
       "    <tr style=\"text-align: right;\">\n",
       "      <th></th>\n",
       "      <th>Temperature</th>\n",
       "      <th>Pct_norm</th>\n",
       "      <th>Pct_obs</th>\n",
       "      <th>R_Pct_NormObs</th>\n",
       "    </tr>\n",
       "  </thead>\n",
       "  <tbody>\n",
       "    <tr>\n",
       "      <th>0</th>\n",
       "      <td>100</td>\n",
       "      <td>82.842745</td>\n",
       "      <td>85.203366</td>\n",
       "      <td>0.972294</td>\n",
       "    </tr>\n",
       "    <tr>\n",
       "      <th>1</th>\n",
       "      <td>105</td>\n",
       "      <td>52.360723</td>\n",
       "      <td>58.537868</td>\n",
       "      <td>0.894476</td>\n",
       "    </tr>\n",
       "    <tr>\n",
       "      <th>2</th>\n",
       "      <td>110</td>\n",
       "      <td>20.339634</td>\n",
       "      <td>18.548387</td>\n",
       "      <td>1.096572</td>\n",
       "    </tr>\n",
       "    <tr>\n",
       "      <th>3</th>\n",
       "      <td>115</td>\n",
       "      <td>4.286993</td>\n",
       "      <td>1.998597</td>\n",
       "      <td>2.145001</td>\n",
       "    </tr>\n",
       "    <tr>\n",
       "      <th>4</th>\n",
       "      <td>120</td>\n",
       "      <td>0.456602</td>\n",
       "      <td>0.070126</td>\n",
       "      <td>6.511139</td>\n",
       "    </tr>\n",
       "  </tbody>\n",
       "</table>\n",
       "</div>"
      ],
      "text/plain": [
       "   Temperature   Pct_norm    Pct_obs  R_Pct_NormObs\n",
       "0          100  82.842745  85.203366       0.972294\n",
       "1          105  52.360723  58.537868       0.894476\n",
       "2          110  20.339634  18.548387       1.096572\n",
       "3          115   4.286993   1.998597       2.145001\n",
       "4          120   0.456602   0.070126       6.511139"
      ]
     },
     "execution_count": 28,
     "metadata": {},
     "output_type": "execute_result"
    }
   ],
   "source": [
    "df['R_Pct_NormObs']=df['Pct_norm']/df['Pct_obs']\n",
    "df"
   ]
  },
  {
   "cell_type": "code",
   "execution_count": 29,
   "id": "d0c52057",
   "metadata": {},
   "outputs": [
    {
     "data": {
      "text/plain": [
       "Text(0.5, 0, 'TMAX ($^o$F)')"
      ]
     },
     "execution_count": 29,
     "metadata": {},
     "output_type": "execute_result"
    },
    {
     "data": {
      "image/png": "[encoded data removed]",
      "text/plain": [
       "<Figure size 640x480 with 1 Axes>"
      ]
     },
     "metadata": {},
     "output_type": "display_data"
    }
   ],
   "source": [
    "fig, ax = plt.subplots()\n",
    "df.plot(x='Temperature',y='R_Pct_NormObs', ax=ax, fontsize =13)\n",
    "ax.set_ylabel('P(Model)/ P(Observed)',fontsize=14)\n",
    "ax.set_xlabel('TMAX ($^o$F)',fontsize=14)"
   ]
  },
  {
   "cell_type": "markdown",
   "id": "847b8523",
   "metadata": {},
   "source": [
    "#### Key Take-Aways: Heat\n",
    "\n",
    "- Our theoretical model appears to be getting exponentially worse, as we go to more extreme temperatures. \n",
    "- This makes sense, as the model is fitted using mean temperatures and does not account for extreme values. \n",
    "- In this case is is overestimating heat, but just the opposite could have happened, if the observed distribution would have been different. \n",
    "- Our model does not include climate change. \n",
    "    - If the climate would warm by 2.5 degrees F, even this model would understimate extreme heat. \n",
    "    - We are currently [on track for a global increase of temperatures of ~7 F](https://www.nytimes.com/interactive/2021/10/25/climate/world-climate-pledges-cop26.html).\n",
    "    - This will mean much higher temperatures in Phoenix"
   ]
  },
  {
   "cell_type": "markdown",
   "id": "e74b8626",
   "metadata": {},
   "source": [
    "## Case Study 2: River Discharge and Return Periods\n",
    "\n",
    "_Note: This methods for this case study are adapted from the [following activity](https://serc.carleton.edu/hydromodules/steps/166250.html) via [VT Hydroinformatics](https://vt-hydroinformatics.github.io/floods.html#template-repository)._"
   ]
  },
  {
   "cell_type": "markdown",
   "id": "f05d6217",
   "metadata": {},
   "source": [
    "Flood return periods are extremely important, when designing infrasturture, such as bridges over rivers. Instrastucture tends to be planned to withstand flood return periods of 500 or 1000 years. \n",
    "\n",
    "A flood with a return period of [100-years](https://en.wikipedia.org/wiki/100-year_flood) is often referred to as a reference flood period.\n",
    "\n",
    "Because, we don't have observations that span 500 (or often even 100) years, these stream discharge levels (and thus the river height) associated with these flood events can only be derived using models. \n",
    "\n",
    "For this case study we use the same data as in the `W4_1_ClimateData` excercise: USGS Streamflow data collected at the North River near Burketown, VA.\n",
    "\n",
    "We read the data assing a 'Year' column and remove missing values with `.dropna()`."
   ]
  },
  {
   "cell_type": "code",
   "execution_count": 30,
   "id": "f17dae81",
   "metadata": {},
   "outputs": [
    {
     "data": {
      "text/html": [
       "<div>\n",
       "<style scoped>\n",
       "    .dataframe tbody tr th:only-of-type {\n",
       "        vertical-align: middle;\n",
       "    }\n",
       "\n",
       "    .dataframe tbody tr th {\n",
       "        vertical-align: top;\n",
       "    }\n",
       "\n",
       "    .dataframe thead th {\n",
       "        text-align: right;\n",
       "    }\n",
       "</style>\n",
       "<table border=\"1\" class=\"dataframe\">\n",
       "  <thead>\n",
       "    <tr style=\"text-align: right;\">\n",
       "      <th></th>\n",
       "      <th>agency</th>\n",
       "      <th>stationID</th>\n",
       "      <th>discharge_cfs</th>\n",
       "      <th>label</th>\n",
       "      <th>Year</th>\n",
       "    </tr>\n",
       "    <tr>\n",
       "      <th>date</th>\n",
       "      <th></th>\n",
       "      <th></th>\n",
       "      <th></th>\n",
       "      <th></th>\n",
       "      <th></th>\n",
       "    </tr>\n",
       "  </thead>\n",
       "  <tbody>\n",
       "    <tr>\n",
       "      <th>1927-01-01</th>\n",
       "      <td>USGS</td>\n",
       "      <td>1622000</td>\n",
       "      <td>684.0</td>\n",
       "      <td>A</td>\n",
       "      <td>1927</td>\n",
       "    </tr>\n",
       "    <tr>\n",
       "      <th>1927-01-02</th>\n",
       "      <td>USGS</td>\n",
       "      <td>1622000</td>\n",
       "      <td>610.0</td>\n",
       "      <td>A</td>\n",
       "      <td>1927</td>\n",
       "    </tr>\n",
       "    <tr>\n",
       "      <th>1927-01-03</th>\n",
       "      <td>USGS</td>\n",
       "      <td>1622000</td>\n",
       "      <td>573.0</td>\n",
       "      <td>A</td>\n",
       "      <td>1927</td>\n",
       "    </tr>\n",
       "    <tr>\n",
       "      <th>1927-01-04</th>\n",
       "      <td>USGS</td>\n",
       "      <td>1622000</td>\n",
       "      <td>492.0</td>\n",
       "      <td>A</td>\n",
       "      <td>1927</td>\n",
       "    </tr>\n",
       "    <tr>\n",
       "      <th>1927-01-05</th>\n",
       "      <td>USGS</td>\n",
       "      <td>1622000</td>\n",
       "      <td>455.0</td>\n",
       "      <td>A</td>\n",
       "      <td>1927</td>\n",
       "    </tr>\n",
       "  </tbody>\n",
       "</table>\n",
       "</div>"
      ],
      "text/plain": [
       "           agency  stationID  discharge_cfs label  Year\n",
       "date                                                   \n",
       "1927-01-01   USGS    1622000          684.0     A  1927\n",
       "1927-01-02   USGS    1622000          610.0     A  1927\n",
       "1927-01-03   USGS    1622000          573.0     A  1927\n",
       "1927-01-04   USGS    1622000          492.0     A  1927\n",
       "1927-01-05   USGS    1622000          455.0     A  1927"
      ]
     },
     "execution_count": 30,
     "metadata": {},
     "output_type": "execute_result"
    }
   ],
   "source": [
    "dischargeData = pd.read_csv('../../W4_1_ClimateData/data/USGS_01622000.txt', \n",
    "                        skiprows=31,\n",
    "                        delimiter='\\t', \n",
    "                        names = ['agency', 'stationID', 'date','discharge_cfs','label'], # I am\n",
    "                        parse_dates = ['date'],\n",
    "                        index_col = ['date'])\n",
    "dischargeData = dischargeData.dropna() \n",
    "dischargeData['Year']=dischargeData.index.year \n",
    "dischargeData.head()"
   ]
  },
  {
   "cell_type": "markdown",
   "id": "01180b5b",
   "metadata": {},
   "source": [
    "For our analyis, we will focus on the maximum riverflow (discharge) in each year. We can get this, by using the `.groupby()` operator on the `'Year'` column and using `.max()` as the aggregator function. "
   ]
  },
  {
   "cell_type": "code",
   "execution_count": 31,
   "id": "104b94ff",
   "metadata": {},
   "outputs": [
    {
     "data": {
      "text/html": [
       "<div>\n",
       "<style scoped>\n",
       "    .dataframe tbody tr th:only-of-type {\n",
       "        vertical-align: middle;\n",
       "    }\n",
       "\n",
       "    .dataframe tbody tr th {\n",
       "        vertical-align: top;\n",
       "    }\n",
       "\n",
       "    .dataframe thead th {\n",
       "        text-align: right;\n",
       "    }\n",
       "</style>\n",
       "<table border=\"1\" class=\"dataframe\">\n",
       "  <thead>\n",
       "    <tr style=\"text-align: right;\">\n",
       "      <th></th>\n",
       "      <th>discharge_cfs</th>\n",
       "    </tr>\n",
       "    <tr>\n",
       "      <th>Year</th>\n",
       "      <th></th>\n",
       "    </tr>\n",
       "  </thead>\n",
       "  <tbody>\n",
       "    <tr>\n",
       "      <th>1927</th>\n",
       "      <td>3490.0</td>\n",
       "    </tr>\n",
       "    <tr>\n",
       "      <th>1928</th>\n",
       "      <td>5260.0</td>\n",
       "    </tr>\n",
       "    <tr>\n",
       "      <th>1929</th>\n",
       "      <td>4400.0</td>\n",
       "    </tr>\n",
       "    <tr>\n",
       "      <th>1930</th>\n",
       "      <td>1070.0</td>\n",
       "    </tr>\n",
       "    <tr>\n",
       "      <th>1931</th>\n",
       "      <td>1390.0</td>\n",
       "    </tr>\n",
       "  </tbody>\n",
       "</table>\n",
       "</div>"
      ],
      "text/plain": [
       "      discharge_cfs\n",
       "Year               \n",
       "1927         3490.0\n",
       "1928         5260.0\n",
       "1929         4400.0\n",
       "1930         1070.0\n",
       "1931         1390.0"
      ]
     },
     "execution_count": 31,
     "metadata": {},
     "output_type": "execute_result"
    }
   ],
   "source": [
    "yearly_max_discharge = dischargeData[['Year','discharge_cfs']].groupby('Year').max()\n",
    "yearly_max_discharge.head()"
   ]
  },
  {
   "cell_type": "markdown",
   "id": "c7b92777",
   "metadata": {},
   "source": [
    "A quick plot, shows that most years the maximum discharge is around 5000 cfs, but some years had much higher maximum discharges. "
   ]
  },
  {
   "cell_type": "code",
   "execution_count": 32,
   "id": "4e83353c",
   "metadata": {},
   "outputs": [
    {
     "data": {
      "text/plain": [
       "<AxesSubplot:xlabel='Year'>"
      ]
     },
     "execution_count": 32,
     "metadata": {},
     "output_type": "execute_result"
    },
    {
     "data": {
      "image/png": "[encoded data removed]",
      "text/plain": [
       "<Figure size 640x480 with 1 Axes>"
      ]
     },
     "metadata": {},
     "output_type": "display_data"
    }
   ],
   "source": [
    "yearly_max_discharge.plot(y='discharge_cfs')"
   ]
  },
  {
   "cell_type": "markdown",
   "id": "1e6f666a",
   "metadata": {},
   "source": [
    "A histogram shows, that this data is clealy not normally distributed. There is a tail with very high discharges. "
   ]
  },
  {
   "cell_type": "code",
   "execution_count": 33,
   "id": "5f8014f6",
   "metadata": {},
   "outputs": [
    {
     "data": {
      "text/plain": [
       "<AxesSubplot:ylabel='Frequency'>"
      ]
     },
     "execution_count": 33,
     "metadata": {},
     "output_type": "execute_result"
    },
    {
     "data": {
      "image/png": "[encoded data removed]",
      "text/plain": [
       "<Figure size 640x480 with 1 Axes>"
      ]
     },
     "metadata": {},
     "output_type": "display_data"
    }
   ],
   "source": [
    "yearly_max_discharge.plot(kind='hist',y='discharge_cfs', bins = 50)"
   ]
  },
  {
   "cell_type": "markdown",
   "id": "d21e0d3b",
   "metadata": {},
   "source": [
    "We can confirm this by overlaying a normal distribution, like in the temperature case study. "
   ]
  },
  {
   "cell_type": "code",
   "execution_count": 34,
   "id": "650479ee",
   "metadata": {},
   "outputs": [
    {
     "data": {
      "image/png": "[encoded data removed]",
      "text/plain": [
       "<Figure size 1100x600 with 1 Axes>"
      ]
     },
     "metadata": {},
     "output_type": "display_data"
    }
   ],
   "source": [
    "from scipy.stats import norm\n",
    "fig, ax = plt.subplots(figsize=(11, 6))\n",
    "yearly_max_discharge.plot(kind='hist',y='discharge_cfs', bins = 50, density = True, \n",
    "                          label = 'Discharge (CFS)',\n",
    "                          ax = ax,\n",
    "                         fontsize = 16)\n",
    "\n",
    "xmin, xmax, mean, std = [yearly_max_discharge['discharge_cfs'].min(), yearly_max_discharge['discharge_cfs'].max(), \n",
    "        yearly_max_discharge['discharge_cfs'].mean(), yearly_max_discharge['discharge_cfs'].std()]\n",
    "\n",
    "x = np.linspace(xmin, xmax, 100)\n",
    "y = norm.pdf(x, mean, std)\n",
    "\n",
    "plt.plot(x,y, label = 'Normal Distribution')\n",
    "\n",
    "ax.set_ylabel(\"Frequency\",fontsize = 16)\n",
    "ax.set_xlabel(\"Discharge Value (CFS)\",fontsize = 16)\n",
    "\n",
    "plt.legend(fontsize = 16)\n",
    "plt.show()"
   ]
  },
  {
   "cell_type": "markdown",
   "id": "b356b1bb",
   "metadata": {},
   "source": [
    "We need to fit these data to a distribution in order to make a relationship we can use to predict the discharge of specific return intervals.\n",
    "\n",
    "If a normal model does not work, we can think about some other distribution that is more likely to fit. "
   ]
  },
  {
   "cell_type": "markdown",
   "id": "65c49a7e",
   "metadata": {},
   "source": [
    "#### Gumbel Distribution\n",
    "\n",
    "There are many distributions that can be used in this situation, but a common one for flood frequency analyses is the [Gumbel extreme value distribution](https://en.wikipedia.org/wiki/Gumbel_distribution):\n",
    "\n",
    "![](https://upload.wikimedia.org/wikipedia/commons/thumb/3/32/Gumbel-Density.svg/650px-Gumbel-Density.svg.png)"
   ]
  },
  {
   "cell_type": "markdown",
   "id": "b1198512",
   "metadata": {},
   "source": [
    "But first, let's use our data to calculate the observed return periods. To do so, we can define a function that does just that. \n",
    "I am borrowing this function from the [Earth Data Science Textbook](https://www.earthdatascience.org/courses/use-data-open-source-python/use-time-series-data-in-python/floods-return-period-and-probability/):"
   ]
  },
  {
   "cell_type": "code",
   "execution_count": 35,
   "id": "581dea1d",
   "metadata": {},
   "outputs": [],
   "source": [
    "def calculate_return(df, colname):\n",
    "    '''\n",
    "    Add Documentation Here\n",
    "\n",
    "\n",
    "    '''\n",
    "    # Sort data smallest to largest\n",
    "    sorted_data = df.sort_values(by=colname)\n",
    "    \n",
    "    # Count total obervations\n",
    "    n = sorted_data.shape[0]\n",
    "    \n",
    "    # Add a numbered column 1 -> n to use in return calculation for rank\n",
    "    #sorted_data.insert(0, 'rank', range(1, 1 + n))\n",
    "    sorted_data['rank']=range(1, 1 + n) # small change to allow for re-run\n",
    "    \n",
    "    # Calculate probability\n",
    "    sorted_data[\"probability\"] = (n - sorted_data[\"rank\"] + 1) / (n + 1)\n",
    "    \n",
    "    # Calculate return - data are daily to then divide by 365?\n",
    "    sorted_data[\"return-time\"] = (1 / sorted_data[\"probability\"])\n",
    "    \n",
    "    \n",
    "    return(sorted_data)"
   ]
  },
  {
   "cell_type": "markdown",
   "id": "eb287a0f",
   "metadata": {},
   "source": [
    "We can now apply this function to our dataset. The dataset is now orderby by `discharge_cfs`, and each discharge value has a probability and a return time in years, associated with it. "
   ]
  },
  {
   "cell_type": "code",
   "execution_count": 36,
   "id": "458759ea",
   "metadata": {},
   "outputs": [
    {
     "data": {
      "text/html": [
       "<div>\n",
       "<style scoped>\n",
       "    .dataframe tbody tr th:only-of-type {\n",
       "        vertical-align: middle;\n",
       "    }\n",
       "\n",
       "    .dataframe tbody tr th {\n",
       "        vertical-align: top;\n",
       "    }\n",
       "\n",
       "    .dataframe thead th {\n",
       "        text-align: right;\n",
       "    }\n",
       "</style>\n",
       "<table border=\"1\" class=\"dataframe\">\n",
       "  <thead>\n",
       "    <tr style=\"text-align: right;\">\n",
       "      <th></th>\n",
       "      <th>discharge_cfs</th>\n",
       "      <th>rank</th>\n",
       "      <th>probability</th>\n",
       "      <th>return-time</th>\n",
       "    </tr>\n",
       "    <tr>\n",
       "      <th>Year</th>\n",
       "      <th></th>\n",
       "      <th></th>\n",
       "      <th></th>\n",
       "      <th></th>\n",
       "    </tr>\n",
       "  </thead>\n",
       "  <tbody>\n",
       "    <tr>\n",
       "      <th>1930</th>\n",
       "      <td>1070.0</td>\n",
       "      <td>1</td>\n",
       "      <td>0.989691</td>\n",
       "      <td>1.010417</td>\n",
       "    </tr>\n",
       "    <tr>\n",
       "      <th>1999</th>\n",
       "      <td>1270.0</td>\n",
       "      <td>2</td>\n",
       "      <td>0.979381</td>\n",
       "      <td>1.021053</td>\n",
       "    </tr>\n",
       "    <tr>\n",
       "      <th>1931</th>\n",
       "      <td>1390.0</td>\n",
       "      <td>3</td>\n",
       "      <td>0.969072</td>\n",
       "      <td>1.031915</td>\n",
       "    </tr>\n",
       "    <tr>\n",
       "      <th>2000</th>\n",
       "      <td>1420.0</td>\n",
       "      <td>4</td>\n",
       "      <td>0.958763</td>\n",
       "      <td>1.043011</td>\n",
       "    </tr>\n",
       "    <tr>\n",
       "      <th>1956</th>\n",
       "      <td>1660.0</td>\n",
       "      <td>5</td>\n",
       "      <td>0.948454</td>\n",
       "      <td>1.054348</td>\n",
       "    </tr>\n",
       "    <tr>\n",
       "      <th>...</th>\n",
       "      <td>...</td>\n",
       "      <td>...</td>\n",
       "      <td>...</td>\n",
       "      <td>...</td>\n",
       "    </tr>\n",
       "    <tr>\n",
       "      <th>1934</th>\n",
       "      <td>14800.0</td>\n",
       "      <td>92</td>\n",
       "      <td>0.051546</td>\n",
       "      <td>19.400000</td>\n",
       "    </tr>\n",
       "    <tr>\n",
       "      <th>1942</th>\n",
       "      <td>20100.0</td>\n",
       "      <td>93</td>\n",
       "      <td>0.041237</td>\n",
       "      <td>24.250000</td>\n",
       "    </tr>\n",
       "    <tr>\n",
       "      <th>1949</th>\n",
       "      <td>29900.0</td>\n",
       "      <td>94</td>\n",
       "      <td>0.030928</td>\n",
       "      <td>32.333333</td>\n",
       "    </tr>\n",
       "    <tr>\n",
       "      <th>1985</th>\n",
       "      <td>30000.0</td>\n",
       "      <td>95</td>\n",
       "      <td>0.020619</td>\n",
       "      <td>48.500000</td>\n",
       "    </tr>\n",
       "    <tr>\n",
       "      <th>1996</th>\n",
       "      <td>32000.0</td>\n",
       "      <td>96</td>\n",
       "      <td>0.010309</td>\n",
       "      <td>97.000000</td>\n",
       "    </tr>\n",
       "  </tbody>\n",
       "</table>\n",
       "<p>96 rows × 4 columns</p>\n",
       "</div>"
      ],
      "text/plain": [
       "      discharge_cfs  rank  probability  return-time\n",
       "Year                                               \n",
       "1930         1070.0     1     0.989691     1.010417\n",
       "1999         1270.0     2     0.979381     1.021053\n",
       "1931         1390.0     3     0.969072     1.031915\n",
       "2000         1420.0     4     0.958763     1.043011\n",
       "1956         1660.0     5     0.948454     1.054348\n",
       "...             ...   ...          ...          ...\n",
       "1934        14800.0    92     0.051546    19.400000\n",
       "1942        20100.0    93     0.041237    24.250000\n",
       "1949        29900.0    94     0.030928    32.333333\n",
       "1985        30000.0    95     0.020619    48.500000\n",
       "1996        32000.0    96     0.010309    97.000000\n",
       "\n",
       "[96 rows x 4 columns]"
      ]
     },
     "execution_count": 36,
     "metadata": {},
     "output_type": "execute_result"
    }
   ],
   "source": [
    "yearly_max_discharge=calculate_return(yearly_max_discharge,'discharge_cfs')\n",
    "yearly_max_discharge"
   ]
  },
  {
   "cell_type": "markdown",
   "id": "fd50e234",
   "metadata": {},
   "source": [
    "We can plot this as a discharge vs return period plot, which is quite common in hydrology. "
   ]
  },
  {
   "cell_type": "code",
   "execution_count": 37,
   "id": "6f9ae527",
   "metadata": {},
   "outputs": [
    {
     "data": {
      "image/png": "[encoded data removed]",
      "text/plain": [
       "<Figure size 1100x600 with 1 Axes>"
      ]
     },
     "metadata": {},
     "output_type": "display_data"
    }
   ],
   "source": [
    "fig, ax = plt.subplots(figsize=(11, 6))\n",
    "plt.style.use('seaborn-whitegrid')\n",
    "yearly_max_discharge.plot.scatter(y=\"discharge_cfs\",\n",
    "                           x=\"return-time\",\n",
    "                           ax=ax,\n",
    "                           color='purple',\n",
    "                           fontsize=16,\n",
    "                           label=\"Daily Mean Calculated\")\n",
    "\n",
    "ax.legend(frameon=False,\n",
    "         fontsize = 15)\n",
    "\n",
    "ax.set_xlabel(\"Return Period (Years)\",fontsize = 16)\n",
    "ax.set_ylabel(\"Discharge Value (CFS)\",fontsize = 16)\n",
    "\n",
    "plt.show()"
   ]
  },
  {
   "cell_type": "markdown",
   "id": "cec07505",
   "metadata": {},
   "source": [
    "Next, we will fit the `Gumbel Distribution`. It's parameters can be estimated from the distribution like below. \n",
    "Details about that can be found [here](https://vt-hydroinformatics.github.io/floods.html#template-repository), but they don't really matter at this point too much. "
   ]
  },
  {
   "cell_type": "code",
   "execution_count": 38,
   "id": "85863c59",
   "metadata": {},
   "outputs": [],
   "source": [
    "def gumbel_dist(x,u,alpha):\n",
    "     return np.exp(-np.exp(-((x - u) / alpha)))\n",
    "    \n",
    "def fit_gumbel(x):\n",
    "    xbar  = np.mean(x)\n",
    "    sx = np.std(x)\n",
    "    alpha = (np.sqrt(6)*sx) / np.pi\n",
    "    u = xbar - (0.5772 * alpha)\n",
    "    \n",
    "    return (gumbel_dist(x,u,alpha), u, alpha)"
   ]
  },
  {
   "cell_type": "markdown",
   "id": "b97f22a8",
   "metadata": {},
   "source": [
    "We can use the fitted distribution to then assinge theoretical probabilites and return periods. "
   ]
  },
  {
   "cell_type": "code",
   "execution_count": 39,
   "id": "6a584399",
   "metadata": {},
   "outputs": [
    {
     "data": {
      "text/html": [
       "<div>\n",
       "<style scoped>\n",
       "    .dataframe tbody tr th:only-of-type {\n",
       "        vertical-align: middle;\n",
       "    }\n",
       "\n",
       "    .dataframe tbody tr th {\n",
       "        vertical-align: top;\n",
       "    }\n",
       "\n",
       "    .dataframe thead th {\n",
       "        text-align: right;\n",
       "    }\n",
       "</style>\n",
       "<table border=\"1\" class=\"dataframe\">\n",
       "  <thead>\n",
       "    <tr style=\"text-align: right;\">\n",
       "      <th></th>\n",
       "      <th>discharge_cfs</th>\n",
       "      <th>rank</th>\n",
       "      <th>probability</th>\n",
       "      <th>return-time</th>\n",
       "      <th>P_Model_(Gumbel)</th>\n",
       "      <th>return-time_Model(Gumbel)</th>\n",
       "    </tr>\n",
       "    <tr>\n",
       "      <th>Year</th>\n",
       "      <th></th>\n",
       "      <th></th>\n",
       "      <th></th>\n",
       "      <th></th>\n",
       "      <th></th>\n",
       "      <th></th>\n",
       "    </tr>\n",
       "  </thead>\n",
       "  <tbody>\n",
       "    <tr>\n",
       "      <th>1930</th>\n",
       "      <td>1070.0</td>\n",
       "      <td>1</td>\n",
       "      <td>0.989691</td>\n",
       "      <td>1.010417</td>\n",
       "      <td>0.814592</td>\n",
       "      <td>1.227608</td>\n",
       "    </tr>\n",
       "    <tr>\n",
       "      <th>1999</th>\n",
       "      <td>1270.0</td>\n",
       "      <td>2</td>\n",
       "      <td>0.979381</td>\n",
       "      <td>1.021053</td>\n",
       "      <td>0.799432</td>\n",
       "      <td>1.250889</td>\n",
       "    </tr>\n",
       "    <tr>\n",
       "      <th>1931</th>\n",
       "      <td>1390.0</td>\n",
       "      <td>3</td>\n",
       "      <td>0.969072</td>\n",
       "      <td>1.031915</td>\n",
       "      <td>0.790119</td>\n",
       "      <td>1.265633</td>\n",
       "    </tr>\n",
       "    <tr>\n",
       "      <th>2000</th>\n",
       "      <td>1420.0</td>\n",
       "      <td>4</td>\n",
       "      <td>0.958763</td>\n",
       "      <td>1.043011</td>\n",
       "      <td>0.787766</td>\n",
       "      <td>1.269412</td>\n",
       "    </tr>\n",
       "    <tr>\n",
       "      <th>1956</th>\n",
       "      <td>1660.0</td>\n",
       "      <td>5</td>\n",
       "      <td>0.948454</td>\n",
       "      <td>1.054348</td>\n",
       "      <td>0.768627</td>\n",
       "      <td>1.301021</td>\n",
       "    </tr>\n",
       "    <tr>\n",
       "      <th>...</th>\n",
       "      <td>...</td>\n",
       "      <td>...</td>\n",
       "      <td>...</td>\n",
       "      <td>...</td>\n",
       "      <td>...</td>\n",
       "      <td>...</td>\n",
       "    </tr>\n",
       "    <tr>\n",
       "      <th>1934</th>\n",
       "      <td>14800.0</td>\n",
       "      <td>92</td>\n",
       "      <td>0.051546</td>\n",
       "      <td>19.400000</td>\n",
       "      <td>0.061509</td>\n",
       "      <td>16.257908</td>\n",
       "    </tr>\n",
       "    <tr>\n",
       "      <th>1942</th>\n",
       "      <td>20100.0</td>\n",
       "      <td>93</td>\n",
       "      <td>0.041237</td>\n",
       "      <td>24.250000</td>\n",
       "      <td>0.017745</td>\n",
       "      <td>56.353772</td>\n",
       "    </tr>\n",
       "    <tr>\n",
       "      <th>1949</th>\n",
       "      <td>29900.0</td>\n",
       "      <td>94</td>\n",
       "      <td>0.030928</td>\n",
       "      <td>32.333333</td>\n",
       "      <td>0.001723</td>\n",
       "      <td>580.523443</td>\n",
       "    </tr>\n",
       "    <tr>\n",
       "      <th>1985</th>\n",
       "      <td>30000.0</td>\n",
       "      <td>95</td>\n",
       "      <td>0.020619</td>\n",
       "      <td>48.500000</td>\n",
       "      <td>0.001682</td>\n",
       "      <td>594.541816</td>\n",
       "    </tr>\n",
       "    <tr>\n",
       "      <th>1996</th>\n",
       "      <td>32000.0</td>\n",
       "      <td>96</td>\n",
       "      <td>0.010309</td>\n",
       "      <td>97.000000</td>\n",
       "      <td>0.001044</td>\n",
       "      <td>958.237406</td>\n",
       "    </tr>\n",
       "  </tbody>\n",
       "</table>\n",
       "<p>96 rows × 6 columns</p>\n",
       "</div>"
      ],
      "text/plain": [
       "      discharge_cfs  rank  probability  return-time  P_Model_(Gumbel)  \\\n",
       "Year                                                                    \n",
       "1930         1070.0     1     0.989691     1.010417          0.814592   \n",
       "1999         1270.0     2     0.979381     1.021053          0.799432   \n",
       "1931         1390.0     3     0.969072     1.031915          0.790119   \n",
       "2000         1420.0     4     0.958763     1.043011          0.787766   \n",
       "1956         1660.0     5     0.948454     1.054348          0.768627   \n",
       "...             ...   ...          ...          ...               ...   \n",
       "1934        14800.0    92     0.051546    19.400000          0.061509   \n",
       "1942        20100.0    93     0.041237    24.250000          0.017745   \n",
       "1949        29900.0    94     0.030928    32.333333          0.001723   \n",
       "1985        30000.0    95     0.020619    48.500000          0.001682   \n",
       "1996        32000.0    96     0.010309    97.000000          0.001044   \n",
       "\n",
       "      return-time_Model(Gumbel)  \n",
       "Year                             \n",
       "1930                   1.227608  \n",
       "1999                   1.250889  \n",
       "1931                   1.265633  \n",
       "2000                   1.269412  \n",
       "1956                   1.301021  \n",
       "...                         ...  \n",
       "1934                  16.257908  \n",
       "1942                  56.353772  \n",
       "1949                 580.523443  \n",
       "1985                 594.541816  \n",
       "1996                 958.237406  \n",
       "\n",
       "[96 rows x 6 columns]"
      ]
     },
     "execution_count": 39,
     "metadata": {},
     "output_type": "execute_result"
    }
   ],
   "source": [
    "p_gumbel, u, alpha = fit_gumbel(yearly_max_discharge['discharge_cfs'])\n",
    "yearly_max_discharge['P_Model_(Gumbel)']= 1-p_gumbel\n",
    "yearly_max_discharge['return-time_Model(Gumbel)']= 1/(yearly_max_discharge['P_Model_(Gumbel)'])\n",
    "yearly_max_discharge"
   ]
  },
  {
   "cell_type": "markdown",
   "id": "7e27d8b2",
   "metadata": {},
   "source": [
    "**Yikes!**\n",
    "\n",
    "The fitted model, assigns a return time of almost 1000 years to our 1996 flood. **It grossly underestimates the probabilities for the large observed flood events!** \n",
    "\n",
    "Clearly, if we had build bridges to withstand a 500-year flood using this model, we would have been wiped out 3 times witin the last 90 years. \n",
    "\n",
    "Let's look at this in graph form. "
   ]
  },
  {
   "cell_type": "code",
   "execution_count": 40,
   "id": "bcf346b7",
   "metadata": {},
   "outputs": [
    {
     "data": {
      "image/png": "[encoded data removed]",
      "text/plain": [
       "<Figure size 1100x600 with 1 Axes>"
      ]
     },
     "metadata": {},
     "output_type": "display_data"
    }
   ],
   "source": [
    "fig, ax = plt.subplots(figsize=(11, 6))\n",
    "plt.style.use('seaborn-whitegrid')\n",
    "yearly_max_discharge.plot.scatter(y=\"discharge_cfs\",\n",
    "                           x=\"return-time\",\n",
    "                           #title=\"Return Period (Years)\",\n",
    "                           ax=ax,\n",
    "                           color='purple',\n",
    "                           s = 30,\n",
    "                           fontsize=16,\n",
    "                           label=\"Return Time from Obs\")\n",
    "\n",
    "yearly_max_discharge.plot.scatter(y=\"discharge_cfs\",\n",
    "                           x=\"return-time_Model(Gumbel)\",\n",
    "                           #title=\"Return Period (Years)\",\n",
    "                           ax=ax,\n",
    "                           color='orange',\n",
    "                           s = 30,\n",
    "                           fontsize=16,\n",
    "                           label=\"Return Time using Model\")\n",
    "\n",
    "ax.legend(frameon=True,\n",
    "          framealpha=1.,\n",
    "         fontsize = 16)\n",
    "\n",
    "ax.set_xlabel(\"Return Period (Years)\", fontsize = 16)\n",
    "ax.set_ylabel(\"Discharge Value (CFS)\", fontsize = 16)\n",
    "\n",
    "plt.show()\n"
   ]
  },
  {
   "cell_type": "markdown",
   "id": "3e2f131b",
   "metadata": {},
   "source": [
    "#### Key Take-Aways: Flood return\n",
    "\n",
    "- We rarely have long enough time-series data to fully undertstand the underlying distribution. \n",
    "- This means we rely on models to do so. \n",
    "- For non-normally distributed data, we need non-Gaussian models. \n",
    "- The Gumbel distritbution is one example, but there are many others.\n",
    "    - The choice of model can be very important.  \n",
    "- In this case, the fitted model grossly underestimates flood risk, which could have catastrophic real world consequences\n",
    "    - Another model, might have done much better, but we might not have good enough data to evaluate the chose model.    \n",
    "- We run into the same issue, our statistical model is much worse at the extremes than for the parts of the distribution that are better supported with data. \n",
    "- **This is a general problem predicting extremes is extremely difficult.**"
   ]
  },
  {
   "cell_type": "code",
   "execution_count": null,
   "id": "e31862d1",
   "metadata": {},
   "outputs": [],
   "source": []
  }
 ],
 "metadata": {
  "kernelspec": {
   "display_name": "Python 3 (ipykernel)",
   "language": "python",
   "name": "python3"
  },
  "language_info": {
   "codemirror_mode": {
    "name": "ipython",
    "version": 3
   },
   "file_extension": ".py",
   "mimetype": "text/x-python",
   "name": "python",
   "nbconvert_exporter": "python",
   "pygments_lexer": "ipython3",
   "version": "3.8.18"
  }
 },
 "nbformat": 4,
 "nbformat_minor": 5
}
