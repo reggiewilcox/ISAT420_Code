{
 "cells": [
  {
   "cell_type": "markdown",
   "id": "c96d6873",
   "metadata": {},
   "source": [
    "Plan\n",
    "- Select a location in U.S.\n",
    "    - Folium Map\n",
    "    - Put points on map\n",
    "    \n",
    "- Create functions for:\n",
    "    - Gaussian Plume Model\n",
    "    - log wind model \n",
    "    \n",
    "- Provide\n",
    "    - helper function that determines x and y direction based on windspeed and wind dir\n",
    "\n",
    "- Assumptions: \n",
    "    - constant stability class\n",
    "    \n",
    "Students will code up the functions and run the model to determine exposure\n",
    "\n",
    "Source: https://github.com/pktparticle/gaussianPlume/blob/master/gaussianPlumeModel.py"
   ]
  }
 ],
 "metadata": {
  "kernelspec": {
   "display_name": "Python 3 (ipykernel)",
   "language": "python",
   "name": "python3"
  },
  "language_info": {
   "codemirror_mode": {
    "name": "ipython",
    "version": 3
   },
   "file_extension": ".py",
   "mimetype": "text/x-python",
   "name": "python",
   "nbconvert_exporter": "python",
   "pygments_lexer": "ipython3",
   "version": "3.9.12"
  }
 },
 "nbformat": 4,
 "nbformat_minor": 5
}
