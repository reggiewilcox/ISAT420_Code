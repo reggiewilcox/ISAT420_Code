{
 "cells": [
  {
   "cell_type": "markdown",
   "id": "1500724d-2bf3-4474-8876-816385f147ce",
   "metadata": {},
   "source": [
    "# Working with Gridded netCDF data and xarray"
   ]
  },
  {
   "cell_type": "markdown",
   "id": "295b1e33-9e1a-4374-92b7-b9db1e91e876",
   "metadata": {},
   "source": [
    "**This lesson is based on the [_Lesson: working with netCDF data_](https://fabienmaussion.info/climate_system/week_02/01_Lesson_NetCDF_Data.html) in [Fabien Maussion](https://fabienmaussion.info/)'s Physics of the Climate System Course.** \n",
    "\n",
    "_These lecture notes and exercises are licensed under a [Creative Commons Attribution 4.0 International (CC BY 4.0)](https://creativecommons.org/licenses/by/4.0/) license._ "
   ]
  },
  {
   "cell_type": "markdown",
   "id": "a092fc89-0363-4ff1-8ef0-65140bcaf80a",
   "metadata": {},
   "source": [
    "You already learned how to use the basic features of the python language with the numpy and matplotlib libraries. The purpose of this lesson is to introduce you to the main tool that you will use in the semester: [xarray](http://xarray.pydata.org).\n",
    "\n",
    "This is a dense lesson. Please do it entirely and try to remember its structure and content. This code will provide a template for your own code, and you can always come back to these examples when you'll need them. I don't expect you to understand all details, but I hope that you are going to get acquainted with the \"xarray way\" of manipulating multi-dimensional data. You will have to copy and adapt parts of the code below to complete the exercises.\n"
   ]
  },
  {
   "cell_type": "markdown",
   "id": "17babfe2-a53a-4d81-bbe9-d557843c4948",
   "metadata": {},
   "source": [
    "## NetCDF Files"
   ]
  },
  {
   "cell_type": "markdown",
   "id": "0d6bf875-8f4b-47d3-891b-5b88efc2f3ca",
   "metadata": {},
   "source": [
    "In order to open and plot NetCDF files, you'll need to install the `xarray`, `cartopy`, and `netcdf4` packages: if you haven't done so already, follow the [installation instructions](https://isat-drg.github.io/ISAT_420/EnvironmentalData/4_Environments/condaEnvs.html) for our ISAT420 python environment that contains these packages. \n",
    "\n",
    "As a quick fix, you can also install them directly using the code below (this will take some time). \n"
   ]
  },
  {
   "cell_type": "code",
   "execution_count": null,
   "id": "8d402b55-5123-4df0-9807-44ac212bb5ac",
   "metadata": {},
   "outputs": [],
   "source": [
    "#To install these packages remove the hash (#) characters in the lines below and run the cell. The ! tells jupyter to run a system command. \n",
    "#! conda install xarray\n",
    "#! conda install netcdf4\n",
    "#! conda install cartopy "
   ]
  },
  {
   "cell_type": "markdown",
   "id": "7d36f8d6-9fa3-4f63-9851-0a483154161a",
   "metadata": {},
   "source": [
    "### Imports and options"
   ]
  },
  {
   "cell_type": "markdown",
   "id": "03e0cb59-84b6-49c4-bf6f-f59cd5ca988e",
   "metadata": {},
   "source": [
    "First, let's import the tools we need. Remember why we need to import our tools? If not, ask Dr. Gerken"
   ]
  },
  {
   "cell_type": "code",
   "execution_count": null,
   "id": "825b0833-f4bb-45ba-b342-e3390a82d869",
   "metadata": {},
   "outputs": [],
   "source": [
    "# Import the tools we are going to need today:\n",
    "import matplotlib.pyplot as plt  # plotting library\n",
    "import numpy as np  # numerical library\n",
    "import xarray as xr  # netCDF library\n",
    "import cartopy  # Map projections libary\n",
    "import cartopy.crs as ccrs  # Projections list\n",
    "# Some defaults:\n",
    "plt.rcParams['figure.figsize'] = (12, 5)  # Default plot size"
   ]
  },
  {
   "cell_type": "markdown",
   "id": "20d871ec-509b-4f74-88da-135438c12d12",
   "metadata": {},
   "source": [
    "### The Data \n",
    "\n",
    "The data we are going to use today is from the [CERES](https://climatedataguide.ucar.edu/climate-data/ceres-ebaf-clouds-and-earths-radiant-energy-systems-ceres-energy-balanced-and-filled) (Clouds and the Earth's Radiant Energy System) mission. We are going to use the EBAF-TOA and the EBAF-Surface data products (both freely available [on this webpage](https://ceres.larc.nasa.gov/data/)) as climatologies (i.e. monthly averages 2005-2015). \n",
    "\n",
    "The data quality summary of these data (PDF) can be found [here](https://ceres.larc.nasa.gov/documents/DQ_summaries/CERES_EBAF_Ed4.1_DQS.pdf), and more accessible publications can be found [here for TOA](https://journals.ametsoc.org/doi/pdf/10.1175/JCLI-D-17-0208.1) and [here for Surface](https://journals.ametsoc.org/doi/pdf/10.1175/JCLI-D-17-0523.1).\n",
    "\n",
    "We will also be using an example of [ERA5 Reanalysis](https://www.ecmwf.int/en/forecasts/dataset/ecmwf-reanalysis-v5) data.\n",
    "\n",
    "ERA5 (or European ReAnalysis v5) provides global, hourly estimates of atmospheric, ocean wave, and land-surface variables at a horizontal resolution of 31\\,km. Data is available from 1940 onwards both hourly and averaged to monthly. \n",
    "\n",
    "Reanalysis in general are the fusion of observations with a global weather model to derive a homogenous, regular-best estimate output on a grid from station based observations. \n",
    "\n",
    "ERA5 is produced by the [European Center for Medium Range Weather Forecasting (ECMWF)](https://www.ecmwf.int/) and can be downloaded freely (account registration required).\n",
    "\n",
    "I have placed the data files into the `W6_Gridded_Reanalysis/data` directory. "
   ]
  },
  {
   "cell_type": "markdown",
   "id": "350192bf-2b59-4118-bbf8-47f400a15ab3",
   "metadata": {},
   "source": [
    "### Read the data"
   ]
  },
  {
   "cell_type": "markdown",
   "id": "f5f9d35e-92f0-4591-afb0-becc60dbb903",
   "metadata": {},
   "source": [
    "Most of today's meteorological data is stored in the NetCDF format (``*.nc``). NetCDF files are binary files, which means that you can't just open them in a text editor. You need a special reader for it. Nearly all the programming languages offer an interface to NetCDF. For this course we are going to use the [xarray](http://xarray.pydata.org/en/stable/) library to read the data: \n",
    "\n",
    "Let's start with having a look at the ERA5 file, I am providing: \n",
    "\n"
   ]
  },
  {
   "cell_type": "code",
   "execution_count": null,
   "id": "ffed680b-0e8d-4fc6-addc-0cd9831baa33",
   "metadata": {},
   "outputs": [],
   "source": [
    "# Here I downloaded the file in the \"data\" folder which I placed in a folder close to this notebook\n",
    "# The variable name \"ds\" stands for \"dataset\"\n",
    "ds = xr.open_dataset(r'../data/reanalysis-era5-single-level-monthly-means_2000_T_Td_u_v_SST_P.nc', engine='netcdf4')"
   ]
  },
  {
   "cell_type": "code",
   "execution_count": null,
   "id": "16bbefa4-d1d5-4f86-aefb-77c629724dd1",
   "metadata": {},
   "outputs": [],
   "source": [
    "# Lets see what we have:\n",
    "ds"
   ]
  },
  {
   "cell_type": "markdown",
   "id": "85b9a44e-a124-4dc2-953e-c7e65f7f5767",
   "metadata": {},
   "source": [
    "Each netcdf file has a data model, that is represented by xarray: \n",
    "\n",
    "![xarray data model](http://xarray.pydata.org/en/stable/_images/dataset-diagram.png)\n",
    "\n",
    "The NetCDF dataset is made up of various elements: Dimensions, Coordinates, Variables, Attributes:\n",
    "\n",
    "- the dimensions specify the number of elements of each data coordinate, their names should be understandable and specific\n",
    "- the attributes provide some information about the file (metadata)\n",
    "- the variables contain the actual data. In our file there are five variables. All have the dimensions [time, latitude, longitude], so we can expect an array of size [12, 721, 1440]\n",
    "- the coordinates locate the data in space and time\n",
    "\n"
   ]
  },
  {
   "cell_type": "markdown",
   "id": "282fc396-b451-48cc-9217-97e22b8112a9",
   "metadata": {},
   "source": [
    "### Coordinates "
   ]
  },
  {
   "cell_type": "markdown",
   "id": "307797fa-09c9-4055-8f13-d6cd8fa93af4",
   "metadata": {},
   "source": [
    "Let's have a look at the **time** coordinate first:\n",
    "\n",
    "(You can see that this is a similar notation to _pandas_)"
   ]
  },
  {
   "cell_type": "code",
   "execution_count": null,
   "id": "8bba8b04-0324-4529-9275-c87791814993",
   "metadata": {},
   "outputs": [],
   "source": [
    "ds['time']"
   ]
  },
  {
   "cell_type": "markdown",
   "id": "9368cfa4-ceed-4932-9c9b-44e41bce2966",
   "metadata": {},
   "source": [
    "The array contains numbers 12 datetimes, they represent the months of the year. If we were to look into the ERA5 documentation, we know that these represent the average for each month during 2002.\n",
    "\n",
    "The **location coordinates** are also self-explaining:"
   ]
  },
  {
   "cell_type": "code",
   "execution_count": null,
   "id": "9c6a8523-2b2b-4669-bc57-0320d96560cf",
   "metadata": {},
   "outputs": [],
   "source": [
    "ds.longitude  # This is an alternate notaion to ds['longitude] that works in pandas and xarray as long as there are not spaces"
   ]
  },
  {
   "cell_type": "code",
   "execution_count": null,
   "id": "c10ff265-59ca-4748-8018-8fb7b3aca9b3",
   "metadata": {},
   "outputs": [],
   "source": [
    "ds.latitude"
   ]
  },
  {
   "cell_type": "markdown",
   "id": "5eb2a385-4e25-4e90-a4f3-e509f33a73c2",
   "metadata": {},
   "source": [
    "**Q: what is the spatial resolution of the ERA5 data?**"
   ]
  },
  {
   "cell_type": "markdown",
   "id": "733914f3-81cc-4e63-9923-705064b1e2bf",
   "metadata": {},
   "source": [
    "### Variables \n"
   ]
  },
  {
   "cell_type": "markdown",
   "id": "18acf1da-bedc-4713-95b8-8ae3872dc2ea",
   "metadata": {},
   "source": [
    "Variables can also be accessed directly from the dataset:"
   ]
  },
  {
   "cell_type": "code",
   "execution_count": null,
   "id": "f7c50266-06e5-424a-a6ea-2ef4498019bb",
   "metadata": {},
   "outputs": [],
   "source": [
    "ds.sst"
   ]
  },
  {
   "cell_type": "markdown",
   "id": "b37a72d4-6054-4009-8102-6606349b08f2",
   "metadata": {},
   "source": [
    "The **attributes** of a variable are extremely important, they carry the metadata and must be specified by the data provider. Here we can read in which units the variable is defined, as well as a description of the variable (the \"long_name\" attribute).\n"
   ]
  },
  {
   "cell_type": "markdown",
   "id": "bbefa63f-72ba-4d04-af98-b740cfcca4ac",
   "metadata": {},
   "source": [
    "**Q: what other information can we read from this printout? Explore the other data variables and see if you understand all of them.** *Note: you can expand each variable's attributes in the html display, or use the method `ds.info()` to list all vars and attributes.*"
   ]
  },
  {
   "cell_type": "code",
   "execution_count": null,
   "id": "81c6814b-ff60-4e58-8c2e-b5a7cad12d0f",
   "metadata": {},
   "outputs": [],
   "source": [
    "# your answer here"
   ]
  },
  {
   "cell_type": "markdown",
   "id": "4755a1d7-f35d-471b-9c59-264e08cc49d1",
   "metadata": {},
   "source": [
    "## First Plots"
   ]
  },
  {
   "cell_type": "markdown",
   "id": "a20d4c67-6334-42f9-a026-1bbccb767c9d",
   "metadata": {},
   "source": [
    "Let't create a first set of plots. For example, we can quickly produce a map of SST in June. \n",
    "\n",
    "To do so, we have to select data based on the time coordinate using the `.sel()` method. The resulting slice is a 2-D grid with latitude and longitude. "
   ]
  },
  {
   "cell_type": "code",
   "execution_count": null,
   "id": "41f65595-486c-46da-803d-6478557a877f",
   "metadata": {},
   "outputs": [],
   "source": [
    "sst_jun= ds.sst.sel(time=\"2000-06-01\")\n",
    "sst_jun"
   ]
  },
  {
   "cell_type": "markdown",
   "id": "e60b0eb2-c5e1-42bc-ac66-6d241a3588cc",
   "metadata": {},
   "source": [
    "We can now make a plot:"
   ]
  },
  {
   "cell_type": "code",
   "execution_count": null,
   "id": "953625c0-7085-4fe2-bc30-feb01e037a9c",
   "metadata": {},
   "outputs": [],
   "source": [
    "# Define the map projection (how does the map look like)\n",
    "ax = plt.axes(projection=ccrs.EqualEarth())\n",
    "# ax is an empty plot. We now plot the variable sst_jan onto ax\n",
    "sst_jan.plot(ax=ax, transform=ccrs.PlateCarree()) \n",
    "# the keyword \"transform\" tells the function in which projection the data is stored \n",
    "ax.coastlines(); ax.gridlines(); # Add gridlines and coastlines to the plot"
   ]
  },
  {
   "cell_type": "markdown",
   "id": "6fc8a557-f39c-413c-af99-2c2a3564cd5b",
   "metadata": {},
   "source": [
    "## Simple Analysis "
   ]
  },
  {
   "cell_type": "markdown",
   "id": "bc065e4c-49b9-4981-8d73-88ca227b7417",
   "metadata": {},
   "source": [
    "Analysing climate data is extremely easy in Python thanks to the [xarray](http://xarray.pydata.org/en/stable/) and [cartopy](https://scitools.org.uk/cartopy/docs/latest/) libraries. First we are going to compute the time average of the SST over the year:"
   ]
  },
  {
   "cell_type": "markdown",
   "id": "9734bf84-5b60-4202-863f-cb7be92a56b4",
   "metadata": {},
   "source": [
    "Similar to _pandas_ we can perform computations over our data, like taking the average [`.mean()`]. We just have need to specify the dimension (`'time'`, `'latitude'`, `'longitude'`)."
   ]
  },
  {
   "cell_type": "code",
   "execution_count": null,
   "id": "9cc3c6f7-2a02-4eca-a772-fe8dfb0180f7",
   "metadata": {},
   "outputs": [],
   "source": [
    "sst_avg = ds.sst.mean(dim='time')"
   ]
  },
  {
   "cell_type": "markdown",
   "id": "47d540ea-6732-413c-b1c6-46a44de5c1e7",
   "metadata": {},
   "source": [
    "What is `sst_avg` by the way?"
   ]
  },
  {
   "cell_type": "code",
   "execution_count": null,
   "id": "0e95f8a0-bd05-4d9c-931e-b377e0da4b53",
   "metadata": {},
   "outputs": [],
   "source": [
    "ssst_avg"
   ]
  },
  {
   "cell_type": "markdown",
   "id": "b2fee8be-609b-45a1-9247-33896fbd5061",
   "metadata": {},
   "source": [
    "So `ssst_avg` is a 2-dimensional array of dimensions [latitude, longitude] (note that the time dimension has disapeared).\n",
    "\n",
    "When we applied the `.mean()` function, we added an argument (called a **keyword argument**): ``dim='time'``. With this argument, we told the function to compute the average *over the time dimension*."
   ]
  },
  {
   "cell_type": "markdown",
   "id": "43f2fffa-64ab-429d-bd90-b43062db36e1",
   "metadata": {},
   "source": [
    "Let's make another plot of this. Give it a try."
   ]
  },
  {
   "cell_type": "code",
   "execution_count": null,
   "id": "d1d4110b-af50-4a88-b3b8-822006b70604",
   "metadata": {},
   "outputs": [],
   "source": [
    "# Plot the mean sst \n"
   ]
  },
  {
   "cell_type": "code",
   "execution_count": null,
   "id": "eff4b74b-4a28-4bd6-acbe-094c46b62cce",
   "metadata": {},
   "outputs": [],
   "source": [
    "# Try what happens if you don't specify the dimension for your averaging. \n"
   ]
  },
  {
   "cell_type": "markdown",
   "id": "5431417d-d209-4fb3-821b-36a39c1f9e54",
   "metadata": {},
   "source": [
    "**Q: What do you think happened?**\n",
    "\n"
   ]
  },
  {
   "cell_type": "markdown",
   "id": "3611837b-3523-476f-8d64-4e21f3f1c886",
   "metadata": {},
   "source": [
    "*Note: scalar output is quite verbose in xarray... Your can print just the data onto the screen with the  .values attribute:*"
   ]
  },
  {
   "cell_type": "code",
   "execution_count": null,
   "id": "d47b1d3b-c4d2-4290-9c5b-b96f629710e7",
   "metadata": {},
   "outputs": [],
   "source": [
    "ds.sst.mean().values"
   ]
  },
  {
   "cell_type": "markdown",
   "id": "277c5960-36bd-4dde-a735-7f065c6d12f4",
   "metadata": {},
   "source": [
    "**Q: what should we expect from the folowing commands:**\n",
    "\n",
    "    ds.sst.mean(dim='longitude')\n",
    "    ds.sst.mean(dim='time').mean(dim='longitude')\n",
    "    ds.sst.mean(dim=['time', 'longitude'])\n",
    "    \n",
    "**Try them out!**"
   ]
  },
  {
   "cell_type": "code",
   "execution_count": null,
   "id": "9675ea9d-31d7-4ffc-b830-31709447fda0",
   "metadata": {},
   "outputs": [],
   "source": [
    "# Try the commands above. Do they work as expected? \n"
   ]
  },
  {
   "cell_type": "markdown",
   "id": "4b88f17f-1f37-49f9-9c71-99e193dfde7b",
   "metadata": {},
   "source": [
    "**E: what is the maximum SST value? And the minimum?** ([hint](http://xarray.pydata.org/en/stable/generated/xarray.DataArray.min.html))"
   ]
  },
  {
   "cell_type": "code",
   "execution_count": null,
   "id": "da96f64b-55ec-4c0e-8d91-472c361bb5aa",
   "metadata": {},
   "outputs": [],
   "source": [
    "# your answer here"
   ]
  },
  {
   "cell_type": "markdown",
   "id": "509250fd-01fe-46fc-8231-dad74a71a760",
   "metadata": {},
   "source": [
    "## Slicing Data "
   ]
  },
  {
   "cell_type": "markdown",
   "id": "a62ba11c-d54d-422e-9682-43b19f528017",
   "metadata": {},
   "source": [
    "Sometimes, we want to focus on a certain region or period within our dataset, which means that we want to look at a _slice_ of the total array.  _xarray_ allows us to select data on such a slice. See what is happening below.  "
   ]
  },
  {
   "cell_type": "code",
   "execution_count": null,
   "id": "8e910fb4-a80e-4598-9eee-ff8fba4263d1",
   "metadata": {},
   "outputs": [],
   "source": [
    "sst_Australia = ds.sst.sel(time='2000-06-01',longitude = slice(105,160),latitude =slice(-8,-45))\n",
    "sst_Australia"
   ]
  },
  {
   "cell_type": "markdown",
   "id": "cff3b2f7-9d87-4cb7-95ae-98106d6445d0",
   "metadata": {},
   "source": [
    "We can then make another plot. I am selecting a different map projection `LambertCylindrical()`, which looks better in this case. \n",
    "If you want to learn more about mapping and map projections you can read about them [here](https://earth-env-data-science.github.io/lectures/mapping_cartopy.html). "
   ]
  },
  {
   "cell_type": "code",
   "execution_count": null,
   "id": "e206b237-7491-42e3-9b0a-4d3d9a15a86b",
   "metadata": {},
   "outputs": [],
   "source": [
    "# Define the map projection (how does the map look like)\n",
    "ax = plt.axes(projection=ccrs.LambertCylindrical())  #\n",
    "# ax is an empty plot. We now plot the variable sst_jan onto ax\n",
    "sst_Australia.plot(ax=ax, transform=ccrs.PlateCarree()) \n",
    "# the keyword \"transform\" tells the function in which projection the data is stored \n",
    "ax.coastlines(); ax.gridlines(); # Add gridlines and coastlines to the plot"
   ]
  },
  {
   "cell_type": "code",
   "execution_count": null,
   "id": "cc052d79-0340-4b7c-abbe-b4663b36a49d",
   "metadata": {},
   "outputs": [],
   "source": []
  }
 ],
 "metadata": {
  "kernelspec": {
   "display_name": "Python 3 (ipykernel)",
   "language": "python",
   "name": "python3"
  },
  "language_info": {
   "codemirror_mode": {
    "name": "ipython",
    "version": 3
   },
   "file_extension": ".py",
   "mimetype": "text/x-python",
   "name": "python",
   "nbconvert_exporter": "python",
   "pygments_lexer": "ipython3",
   "version": "3.12.2"
  }
 },
 "nbformat": 4,
 "nbformat_minor": 5
}
