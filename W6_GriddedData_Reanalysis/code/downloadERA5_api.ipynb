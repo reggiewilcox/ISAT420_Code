{
 "cells": [
  {
   "cell_type": "markdown",
   "id": "aac32faa-129f-48da-a72e-f1cf08009da9",
   "metadata": {},
   "source": [
    "# Downloading ERA5 Reanalysis Data through API\n",
    "\n",
    "ERA5 (or European ReAnalysis v5) provides global, hourly estimates of atmospheric, ocean wave, and land-surface variables at a horizontal resolution of 31\\,km. Data is available from 1940 onwards both hourly and averaged to monthly. \n",
    "\n",
    "Reanalysis in general are the fusion of observations with a global weather model to derive a homogenous, regular-best estimate output on a grid from station based observations. \n",
    "\n",
    "ERA5 is produced by the [European Center for Medium Range Weather Forecasting (ECMWF)](https://www.ecmwf.int/) and can be downloaded freely (account registration required). \n",
    "\n",
    "Data can be either directly downloaded through a web interface from ECMWF's Climate Data Store (CDS), or the web interface can be used to construct calls to the CDS API for download. \n",
    "\n",
    "I am downloading the data in [netCDF file format](https://www.unidata.ucar.edu/software/netcdf/), which is a self described data format for sharing multi-dimensional data. \n",
    "\n",
    "[API Documentation](https://cds.climate.copernicus.eu/api-how-to)\n",
    "\n",
    "![[ERA5 Monthly Averaged Product](https://cds.climate.copernicus.eu/cdsapp#!/dataset/reanalysis-era5-single-levels-monthly-means?tab=overview)](../assets/ERA5.JPG)\n",
    "\n"
   ]
  },
  {
   "cell_type": "code",
   "execution_count": null,
   "id": "4d514be3-a705-4113-a0df-5d104b29b9b1",
   "metadata": {},
   "outputs": [],
   "source": [
    "import cdsapi\n",
    "import time\n",
    "c = cdsapi.Client()\n",
    "\n",
    "\n",
    "for year in range(2000,2001):#,2021):\n",
    "    fname = f'../data/reanalysis-era5-single-levels-monthly-means_{year}.nc'\n",
    "    print(year)\n",
    "    c.retrieve(\n",
    "        'reanalysis-era5-single-levels-monthly-means',\n",
    "        {\n",
    "            'format': 'netcdf',\n",
    "            'product_type': 'monthly_averaged_reanalysis',\n",
    "            'variable': [\n",
    "                '10m_u_component_of_wind', '10m_v_component_of_wind', '2m_dewpoint_temperature',\n",
    "                '2m_temperature', 'sea_surface_temperature', 'total_precipitation',\n",
    "            ],\n",
    "            'month': [\n",
    "                '01', '02', '03',\n",
    "                '04', '05', '06',\n",
    "                '07', '08', '09',\n",
    "                '10', '11', '12',\n",
    "            ],\n",
    "            'time': '00:00',\n",
    "            'year': year,\n",
    "        },\n",
    "        fname)\n",
    "    time.sleep(5)"
   ]
  },
  {
   "cell_type": "code",
   "execution_count": null,
   "id": "84b92734-c002-45db-864c-2e78f37a8359",
   "metadata": {},
   "outputs": [],
   "source": [
    "import cdsapi\n",
    "import time\n",
    "c = cdsapi.Client()\n",
    "\n",
    "\n",
    "for year in range(2001,2021):\n",
    "    fname = f'../data/reanalysis-era5-single-levels-monthly-means_{year}.nc'\n",
    "    print(year)\n",
    "    c.retrieve(\n",
    "        'reanalysis-era5-single-levels-monthly-means',\n",
    "        {\n",
    "            'format': 'netcdf',\n",
    "            'product_type': 'monthly_averaged_reanalysis',\n",
    "            'variable': [\n",
    "                '10m_u_component_of_wind', '10m_v_component_of_wind', '2m_dewpoint_temperature',\n",
    "                '2m_temperature', 'sea_surface_temperature', 'total_precipitation',\n",
    "            ],\n",
    "            'month': [\n",
    "                '01', '02', '03',\n",
    "                '04', '05', '06',\n",
    "                '07', '08', '09',\n",
    "                '10', '11', '12',\n",
    "            ],\n",
    "            'time': '00:00',\n",
    "            'year': year,\n",
    "        },\n",
    "        fname)\n",
    "    time.sleep(5)"
   ]
  },
  {
   "cell_type": "code",
   "execution_count": null,
   "id": "af4035d0-6693-4249-8c0f-e4cab13f0644",
   "metadata": {},
   "outputs": [],
   "source": []
  }
 ],
 "metadata": {
  "kernelspec": {
   "display_name": "Python 3 (ipykernel)",
   "language": "python",
   "name": "python3"
  },
  "language_info": {
   "codemirror_mode": {
    "name": "ipython",
    "version": 3
   },
   "file_extension": ".py",
   "mimetype": "text/x-python",
   "name": "python",
   "nbconvert_exporter": "python",
   "pygments_lexer": "ipython3",
   "version": "3.12.2"
  }
 },
 "nbformat": 4,
 "nbformat_minor": 5
}
